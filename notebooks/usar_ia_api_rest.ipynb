{
  "nbformat": 4,
  "nbformat_minor": 0,
  "metadata": {
    "colab": {
      "provenance": []
    },
    "kernelspec": {
      "name": "python3",
      "display_name": "Python 3"
    },
    "language_info": {
      "name": "python"
    }
  },
  "cells": [
    {
      "cell_type": "code",
      "execution_count": 1,
      "metadata": {
        "colab": {
          "base_uri": "https://localhost:8080/"
        },
        "id": "G0_kXhrmA9Gk",
        "outputId": "e3727e4c-6190-49f8-be4a-01cde047879d"
      },
      "outputs": [
        {
          "output_type": "stream",
          "name": "stdout",
          "text": [
            "Collecting scikit-learn==1.3.2\n",
            "  Downloading scikit_learn-1.3.2-cp311-cp311-manylinux_2_17_x86_64.manylinux2014_x86_64.whl.metadata (11 kB)\n",
            "Requirement already satisfied: numpy<2.0,>=1.17.3 in /usr/local/lib/python3.11/dist-packages (from scikit-learn==1.3.2) (1.26.4)\n",
            "Requirement already satisfied: scipy>=1.5.0 in /usr/local/lib/python3.11/dist-packages (from scikit-learn==1.3.2) (1.13.1)\n",
            "Requirement already satisfied: joblib>=1.1.1 in /usr/local/lib/python3.11/dist-packages (from scikit-learn==1.3.2) (1.4.2)\n",
            "Requirement already satisfied: threadpoolctl>=2.0.0 in /usr/local/lib/python3.11/dist-packages (from scikit-learn==1.3.2) (3.5.0)\n",
            "Downloading scikit_learn-1.3.2-cp311-cp311-manylinux_2_17_x86_64.manylinux2014_x86_64.whl (10.9 MB)\n",
            "\u001b[2K   \u001b[90m━━━━━━━━━━━━━━━━━━━━━━━━━━━━━━━━━━━━━━━━\u001b[0m \u001b[32m10.9/10.9 MB\u001b[0m \u001b[31m16.7 MB/s\u001b[0m eta \u001b[36m0:00:00\u001b[0m\n",
            "\u001b[?25hInstalling collected packages: scikit-learn\n",
            "  Attempting uninstall: scikit-learn\n",
            "    Found existing installation: scikit-learn 1.6.1\n",
            "    Uninstalling scikit-learn-1.6.1:\n",
            "      Successfully uninstalled scikit-learn-1.6.1\n",
            "Successfully installed scikit-learn-1.3.2\n"
          ]
        }
      ],
      "source": [
        "!pip install scikit-learn==1.3.2  # Machine Learning e funções de pré-processamento de dados."
      ]
    },
    {
      "cell_type": "code",
      "source": [
        "## Importe bibliotecas relevantes para processamento e visualização de dados\n",
        "\n",
        "import numpy as np                # álgebra linear\n",
        "import pandas as pd               # processamento de dados, I/O de arquivo de conjunto de dados (por exemplo, pd.read_csv)\n",
        "import matplotlib.pyplot as plt   # visualização de dados e plotagem gráfica\n",
        "import seaborn as sns             # para visualizar distribuições aleatórias\n",
        "%matplotlib inline\n",
        "\n",
        "##  Adicione bibliotecas adicionais para preparar e executar o modelo\n",
        "\n",
        "from sklearn.preprocessing import StandardScaler\n",
        "from sklearn.preprocessing import OneHotEncoder\n",
        "from sklearn.model_selection import train_test_split\n",
        "from sklearn.metrics import r2_score, mean_squared_error, mean_absolute_error\n",
        "from sklearn.linear_model import LinearRegression\n",
        "from sklearn.tree import DecisionTreeRegressor\n",
        "from sklearn.ensemble import RandomForestRegressor\n",
        "from sklearn.ensemble import GradientBoostingRegressor\n",
        "import xgboost as xgb\n",
        "from sklearn.neighbors import KNeighborsRegressor\n",
        "from sklearn.svm import SVC\n",
        "from sklearn.ensemble import ExtraTreesRegressor\n",
        "\n",
        "pd.options.display.float_format = '{:.4f}'.format\n",
        "\n",
        "import warnings                    # para lidar com mensagens de aviso\n",
        "warnings.filterwarnings('ignore')"
      ],
      "metadata": {
        "id": "4LqyarwCBTFt"
      },
      "execution_count": 2,
      "outputs": []
    },
    {
      "cell_type": "code",
      "source": [
        "## Tenha baixado préviamente o conjunto de dados e feito o upload para o google colab\n",
        "df = pd.read_csv('machinetable.csv')\n",
        "df.head()"
      ],
      "metadata": {
        "colab": {
          "base_uri": "https://localhost:8080/",
          "height": 516
        },
        "id": "d-o2V7T8BVrT",
        "outputId": "6ef48b82-c2b3-4f08-d4d3-d973e6184d85"
      },
      "execution_count": 3,
      "outputs": [
        {
          "output_type": "execute_result",
          "data": {
            "text/plain": [
              "                                     id                        created_at  \\\n",
              "0  69c52d79-667f-4d7b-800e-e20f06ebc3c2  2025-01-18 23:14:24.230645-03:00   \n",
              "1  f0f2b352-757c-40e6-bcaf-de1192383d9c  2025-01-18 23:14:27.002594-03:00   \n",
              "2  8e97ce37-b3e6-4db1-8a65-d603ae1ac62c  2025-01-18 23:16:30.360775-03:00   \n",
              "3  a4c59228-626e-406f-9036-d34360f8ffd5  2025-01-18 23:14:22.416528-03:00   \n",
              "4  185d7281-7322-4d28-a11e-b962d692d532  2025-01-18 23:14:22.416587-03:00   \n",
              "\n",
              "                         updated_at  is_active         price      brand  \\\n",
              "0  2025-01-18 23:14:24.230651-03:00       True  7699000.0000      HONDA   \n",
              "1  2025-01-18 23:14:27.002601-03:00       True  6999000.0000  CHEVROLET   \n",
              "2  2025-01-18 23:16:30.360782-03:00       True  6999000.0000    HYUNDAI   \n",
              "3  2025-01-18 23:14:22.416546-03:00       True  5250000.0000       FORD   \n",
              "4  2025-01-18 23:14:22.416593-03:00       True 17990000.0000  CHEVROLET   \n",
              "\n",
              "                                                 url  \\\n",
              "0  https://www.usadosbr.com//carros-e-utilitarios...   \n",
              "1  https://www.usadosbr.com//carros-e-utilitarios...   \n",
              "2  https://www.usadosbr.com//carros-e-utilitarios...   \n",
              "3  https://www.usadosbr.com//carros-e-utilitarios...   \n",
              "4  https://www.usadosbr.com//carros-e-utilitarios...   \n",
              "\n",
              "                         crawl_date  year_reference  month_reference  ...  \\\n",
              "0  2025-01-18 23:14:24.230660-03:00            2025                1  ...   \n",
              "1  2025-01-18 23:14:27.002613-03:00            2025                1  ...   \n",
              "2  2025-01-18 23:16:30.360794-03:00            2025                1  ...   \n",
              "3  2025-01-18 23:14:22.416561-03:00            2025                1  ...   \n",
              "4  2025-01-18 23:14:22.416602-03:00            2025                1  ...   \n",
              "\n",
              "      model year_fabrication year_model           title     mileage  \\\n",
              "0      CITY              NaN       2017      HONDA CITY  80000.0000   \n",
              "1      ONIX              NaN       2023  CHEVROLET ONIX  69902.0000   \n",
              "2      HB20              NaN       2022    HYUNDAI HB20  44744.0000   \n",
              "3  ECOSPORT              NaN       2013   FORD ECOSPORT 228000.0000   \n",
              "4       S10              NaN       2017   CHEVROLET S10 141000.0000   \n",
              "\n",
              "         gear    fuel             bodywork       city state  \n",
              "0         CVT    FLEX                SEDAN     CUIABA    MT  \n",
              "1      MANUAL    FLEX                HATCH    GOIANIA    GO  \n",
              "2      MANUAL    FLEX                HATCH  SAO PAULO    SP  \n",
              "3      MANUAL    FLEX                  SUV     IBIUNA    SP  \n",
              "4  AUTOMATICO  DIESEL  PICAPE CABINE DUPLA    GOIANIA    GO  \n",
              "\n",
              "[5 rows x 22 columns]"
            ],
            "text/html": [
              "\n",
              "  <div id=\"df-a1dde231-83d3-4a98-aec0-62014f5d63c6\" class=\"colab-df-container\">\n",
              "    <div>\n",
              "<style scoped>\n",
              "    .dataframe tbody tr th:only-of-type {\n",
              "        vertical-align: middle;\n",
              "    }\n",
              "\n",
              "    .dataframe tbody tr th {\n",
              "        vertical-align: top;\n",
              "    }\n",
              "\n",
              "    .dataframe thead th {\n",
              "        text-align: right;\n",
              "    }\n",
              "</style>\n",
              "<table border=\"1\" class=\"dataframe\">\n",
              "  <thead>\n",
              "    <tr style=\"text-align: right;\">\n",
              "      <th></th>\n",
              "      <th>id</th>\n",
              "      <th>created_at</th>\n",
              "      <th>updated_at</th>\n",
              "      <th>is_active</th>\n",
              "      <th>price</th>\n",
              "      <th>brand</th>\n",
              "      <th>url</th>\n",
              "      <th>crawl_date</th>\n",
              "      <th>year_reference</th>\n",
              "      <th>month_reference</th>\n",
              "      <th>...</th>\n",
              "      <th>model</th>\n",
              "      <th>year_fabrication</th>\n",
              "      <th>year_model</th>\n",
              "      <th>title</th>\n",
              "      <th>mileage</th>\n",
              "      <th>gear</th>\n",
              "      <th>fuel</th>\n",
              "      <th>bodywork</th>\n",
              "      <th>city</th>\n",
              "      <th>state</th>\n",
              "    </tr>\n",
              "  </thead>\n",
              "  <tbody>\n",
              "    <tr>\n",
              "      <th>0</th>\n",
              "      <td>69c52d79-667f-4d7b-800e-e20f06ebc3c2</td>\n",
              "      <td>2025-01-18 23:14:24.230645-03:00</td>\n",
              "      <td>2025-01-18 23:14:24.230651-03:00</td>\n",
              "      <td>True</td>\n",
              "      <td>7699000.0000</td>\n",
              "      <td>HONDA</td>\n",
              "      <td>https://www.usadosbr.com//carros-e-utilitarios...</td>\n",
              "      <td>2025-01-18 23:14:24.230660-03:00</td>\n",
              "      <td>2025</td>\n",
              "      <td>1</td>\n",
              "      <td>...</td>\n",
              "      <td>CITY</td>\n",
              "      <td>NaN</td>\n",
              "      <td>2017</td>\n",
              "      <td>HONDA CITY</td>\n",
              "      <td>80000.0000</td>\n",
              "      <td>CVT</td>\n",
              "      <td>FLEX</td>\n",
              "      <td>SEDAN</td>\n",
              "      <td>CUIABA</td>\n",
              "      <td>MT</td>\n",
              "    </tr>\n",
              "    <tr>\n",
              "      <th>1</th>\n",
              "      <td>f0f2b352-757c-40e6-bcaf-de1192383d9c</td>\n",
              "      <td>2025-01-18 23:14:27.002594-03:00</td>\n",
              "      <td>2025-01-18 23:14:27.002601-03:00</td>\n",
              "      <td>True</td>\n",
              "      <td>6999000.0000</td>\n",
              "      <td>CHEVROLET</td>\n",
              "      <td>https://www.usadosbr.com//carros-e-utilitarios...</td>\n",
              "      <td>2025-01-18 23:14:27.002613-03:00</td>\n",
              "      <td>2025</td>\n",
              "      <td>1</td>\n",
              "      <td>...</td>\n",
              "      <td>ONIX</td>\n",
              "      <td>NaN</td>\n",
              "      <td>2023</td>\n",
              "      <td>CHEVROLET ONIX</td>\n",
              "      <td>69902.0000</td>\n",
              "      <td>MANUAL</td>\n",
              "      <td>FLEX</td>\n",
              "      <td>HATCH</td>\n",
              "      <td>GOIANIA</td>\n",
              "      <td>GO</td>\n",
              "    </tr>\n",
              "    <tr>\n",
              "      <th>2</th>\n",
              "      <td>8e97ce37-b3e6-4db1-8a65-d603ae1ac62c</td>\n",
              "      <td>2025-01-18 23:16:30.360775-03:00</td>\n",
              "      <td>2025-01-18 23:16:30.360782-03:00</td>\n",
              "      <td>True</td>\n",
              "      <td>6999000.0000</td>\n",
              "      <td>HYUNDAI</td>\n",
              "      <td>https://www.usadosbr.com//carros-e-utilitarios...</td>\n",
              "      <td>2025-01-18 23:16:30.360794-03:00</td>\n",
              "      <td>2025</td>\n",
              "      <td>1</td>\n",
              "      <td>...</td>\n",
              "      <td>HB20</td>\n",
              "      <td>NaN</td>\n",
              "      <td>2022</td>\n",
              "      <td>HYUNDAI HB20</td>\n",
              "      <td>44744.0000</td>\n",
              "      <td>MANUAL</td>\n",
              "      <td>FLEX</td>\n",
              "      <td>HATCH</td>\n",
              "      <td>SAO PAULO</td>\n",
              "      <td>SP</td>\n",
              "    </tr>\n",
              "    <tr>\n",
              "      <th>3</th>\n",
              "      <td>a4c59228-626e-406f-9036-d34360f8ffd5</td>\n",
              "      <td>2025-01-18 23:14:22.416528-03:00</td>\n",
              "      <td>2025-01-18 23:14:22.416546-03:00</td>\n",
              "      <td>True</td>\n",
              "      <td>5250000.0000</td>\n",
              "      <td>FORD</td>\n",
              "      <td>https://www.usadosbr.com//carros-e-utilitarios...</td>\n",
              "      <td>2025-01-18 23:14:22.416561-03:00</td>\n",
              "      <td>2025</td>\n",
              "      <td>1</td>\n",
              "      <td>...</td>\n",
              "      <td>ECOSPORT</td>\n",
              "      <td>NaN</td>\n",
              "      <td>2013</td>\n",
              "      <td>FORD ECOSPORT</td>\n",
              "      <td>228000.0000</td>\n",
              "      <td>MANUAL</td>\n",
              "      <td>FLEX</td>\n",
              "      <td>SUV</td>\n",
              "      <td>IBIUNA</td>\n",
              "      <td>SP</td>\n",
              "    </tr>\n",
              "    <tr>\n",
              "      <th>4</th>\n",
              "      <td>185d7281-7322-4d28-a11e-b962d692d532</td>\n",
              "      <td>2025-01-18 23:14:22.416587-03:00</td>\n",
              "      <td>2025-01-18 23:14:22.416593-03:00</td>\n",
              "      <td>True</td>\n",
              "      <td>17990000.0000</td>\n",
              "      <td>CHEVROLET</td>\n",
              "      <td>https://www.usadosbr.com//carros-e-utilitarios...</td>\n",
              "      <td>2025-01-18 23:14:22.416602-03:00</td>\n",
              "      <td>2025</td>\n",
              "      <td>1</td>\n",
              "      <td>...</td>\n",
              "      <td>S10</td>\n",
              "      <td>NaN</td>\n",
              "      <td>2017</td>\n",
              "      <td>CHEVROLET S10</td>\n",
              "      <td>141000.0000</td>\n",
              "      <td>AUTOMATICO</td>\n",
              "      <td>DIESEL</td>\n",
              "      <td>PICAPE CABINE DUPLA</td>\n",
              "      <td>GOIANIA</td>\n",
              "      <td>GO</td>\n",
              "    </tr>\n",
              "  </tbody>\n",
              "</table>\n",
              "<p>5 rows × 22 columns</p>\n",
              "</div>\n",
              "    <div class=\"colab-df-buttons\">\n",
              "\n",
              "  <div class=\"colab-df-container\">\n",
              "    <button class=\"colab-df-convert\" onclick=\"convertToInteractive('df-a1dde231-83d3-4a98-aec0-62014f5d63c6')\"\n",
              "            title=\"Convert this dataframe to an interactive table.\"\n",
              "            style=\"display:none;\">\n",
              "\n",
              "  <svg xmlns=\"http://www.w3.org/2000/svg\" height=\"24px\" viewBox=\"0 -960 960 960\">\n",
              "    <path d=\"M120-120v-720h720v720H120Zm60-500h600v-160H180v160Zm220 220h160v-160H400v160Zm0 220h160v-160H400v160ZM180-400h160v-160H180v160Zm440 0h160v-160H620v160ZM180-180h160v-160H180v160Zm440 0h160v-160H620v160Z\"/>\n",
              "  </svg>\n",
              "    </button>\n",
              "\n",
              "  <style>\n",
              "    .colab-df-container {\n",
              "      display:flex;\n",
              "      gap: 12px;\n",
              "    }\n",
              "\n",
              "    .colab-df-convert {\n",
              "      background-color: #E8F0FE;\n",
              "      border: none;\n",
              "      border-radius: 50%;\n",
              "      cursor: pointer;\n",
              "      display: none;\n",
              "      fill: #1967D2;\n",
              "      height: 32px;\n",
              "      padding: 0 0 0 0;\n",
              "      width: 32px;\n",
              "    }\n",
              "\n",
              "    .colab-df-convert:hover {\n",
              "      background-color: #E2EBFA;\n",
              "      box-shadow: 0px 1px 2px rgba(60, 64, 67, 0.3), 0px 1px 3px 1px rgba(60, 64, 67, 0.15);\n",
              "      fill: #174EA6;\n",
              "    }\n",
              "\n",
              "    .colab-df-buttons div {\n",
              "      margin-bottom: 4px;\n",
              "    }\n",
              "\n",
              "    [theme=dark] .colab-df-convert {\n",
              "      background-color: #3B4455;\n",
              "      fill: #D2E3FC;\n",
              "    }\n",
              "\n",
              "    [theme=dark] .colab-df-convert:hover {\n",
              "      background-color: #434B5C;\n",
              "      box-shadow: 0px 1px 3px 1px rgba(0, 0, 0, 0.15);\n",
              "      filter: drop-shadow(0px 1px 2px rgba(0, 0, 0, 0.3));\n",
              "      fill: #FFFFFF;\n",
              "    }\n",
              "  </style>\n",
              "\n",
              "    <script>\n",
              "      const buttonEl =\n",
              "        document.querySelector('#df-a1dde231-83d3-4a98-aec0-62014f5d63c6 button.colab-df-convert');\n",
              "      buttonEl.style.display =\n",
              "        google.colab.kernel.accessAllowed ? 'block' : 'none';\n",
              "\n",
              "      async function convertToInteractive(key) {\n",
              "        const element = document.querySelector('#df-a1dde231-83d3-4a98-aec0-62014f5d63c6');\n",
              "        const dataTable =\n",
              "          await google.colab.kernel.invokeFunction('convertToInteractive',\n",
              "                                                    [key], {});\n",
              "        if (!dataTable) return;\n",
              "\n",
              "        const docLinkHtml = 'Like what you see? Visit the ' +\n",
              "          '<a target=\"_blank\" href=https://colab.research.google.com/notebooks/data_table.ipynb>data table notebook</a>'\n",
              "          + ' to learn more about interactive tables.';\n",
              "        element.innerHTML = '';\n",
              "        dataTable['output_type'] = 'display_data';\n",
              "        await google.colab.output.renderOutput(dataTable, element);\n",
              "        const docLink = document.createElement('div');\n",
              "        docLink.innerHTML = docLinkHtml;\n",
              "        element.appendChild(docLink);\n",
              "      }\n",
              "    </script>\n",
              "  </div>\n",
              "\n",
              "\n",
              "<div id=\"df-892efa71-9ed8-4a82-a09e-a2ad259b0618\">\n",
              "  <button class=\"colab-df-quickchart\" onclick=\"quickchart('df-892efa71-9ed8-4a82-a09e-a2ad259b0618')\"\n",
              "            title=\"Suggest charts\"\n",
              "            style=\"display:none;\">\n",
              "\n",
              "<svg xmlns=\"http://www.w3.org/2000/svg\" height=\"24px\"viewBox=\"0 0 24 24\"\n",
              "     width=\"24px\">\n",
              "    <g>\n",
              "        <path d=\"M19 3H5c-1.1 0-2 .9-2 2v14c0 1.1.9 2 2 2h14c1.1 0 2-.9 2-2V5c0-1.1-.9-2-2-2zM9 17H7v-7h2v7zm4 0h-2V7h2v10zm4 0h-2v-4h2v4z\"/>\n",
              "    </g>\n",
              "</svg>\n",
              "  </button>\n",
              "\n",
              "<style>\n",
              "  .colab-df-quickchart {\n",
              "      --bg-color: #E8F0FE;\n",
              "      --fill-color: #1967D2;\n",
              "      --hover-bg-color: #E2EBFA;\n",
              "      --hover-fill-color: #174EA6;\n",
              "      --disabled-fill-color: #AAA;\n",
              "      --disabled-bg-color: #DDD;\n",
              "  }\n",
              "\n",
              "  [theme=dark] .colab-df-quickchart {\n",
              "      --bg-color: #3B4455;\n",
              "      --fill-color: #D2E3FC;\n",
              "      --hover-bg-color: #434B5C;\n",
              "      --hover-fill-color: #FFFFFF;\n",
              "      --disabled-bg-color: #3B4455;\n",
              "      --disabled-fill-color: #666;\n",
              "  }\n",
              "\n",
              "  .colab-df-quickchart {\n",
              "    background-color: var(--bg-color);\n",
              "    border: none;\n",
              "    border-radius: 50%;\n",
              "    cursor: pointer;\n",
              "    display: none;\n",
              "    fill: var(--fill-color);\n",
              "    height: 32px;\n",
              "    padding: 0;\n",
              "    width: 32px;\n",
              "  }\n",
              "\n",
              "  .colab-df-quickchart:hover {\n",
              "    background-color: var(--hover-bg-color);\n",
              "    box-shadow: 0 1px 2px rgba(60, 64, 67, 0.3), 0 1px 3px 1px rgba(60, 64, 67, 0.15);\n",
              "    fill: var(--button-hover-fill-color);\n",
              "  }\n",
              "\n",
              "  .colab-df-quickchart-complete:disabled,\n",
              "  .colab-df-quickchart-complete:disabled:hover {\n",
              "    background-color: var(--disabled-bg-color);\n",
              "    fill: var(--disabled-fill-color);\n",
              "    box-shadow: none;\n",
              "  }\n",
              "\n",
              "  .colab-df-spinner {\n",
              "    border: 2px solid var(--fill-color);\n",
              "    border-color: transparent;\n",
              "    border-bottom-color: var(--fill-color);\n",
              "    animation:\n",
              "      spin 1s steps(1) infinite;\n",
              "  }\n",
              "\n",
              "  @keyframes spin {\n",
              "    0% {\n",
              "      border-color: transparent;\n",
              "      border-bottom-color: var(--fill-color);\n",
              "      border-left-color: var(--fill-color);\n",
              "    }\n",
              "    20% {\n",
              "      border-color: transparent;\n",
              "      border-left-color: var(--fill-color);\n",
              "      border-top-color: var(--fill-color);\n",
              "    }\n",
              "    30% {\n",
              "      border-color: transparent;\n",
              "      border-left-color: var(--fill-color);\n",
              "      border-top-color: var(--fill-color);\n",
              "      border-right-color: var(--fill-color);\n",
              "    }\n",
              "    40% {\n",
              "      border-color: transparent;\n",
              "      border-right-color: var(--fill-color);\n",
              "      border-top-color: var(--fill-color);\n",
              "    }\n",
              "    60% {\n",
              "      border-color: transparent;\n",
              "      border-right-color: var(--fill-color);\n",
              "    }\n",
              "    80% {\n",
              "      border-color: transparent;\n",
              "      border-right-color: var(--fill-color);\n",
              "      border-bottom-color: var(--fill-color);\n",
              "    }\n",
              "    90% {\n",
              "      border-color: transparent;\n",
              "      border-bottom-color: var(--fill-color);\n",
              "    }\n",
              "  }\n",
              "</style>\n",
              "\n",
              "  <script>\n",
              "    async function quickchart(key) {\n",
              "      const quickchartButtonEl =\n",
              "        document.querySelector('#' + key + ' button');\n",
              "      quickchartButtonEl.disabled = true;  // To prevent multiple clicks.\n",
              "      quickchartButtonEl.classList.add('colab-df-spinner');\n",
              "      try {\n",
              "        const charts = await google.colab.kernel.invokeFunction(\n",
              "            'suggestCharts', [key], {});\n",
              "      } catch (error) {\n",
              "        console.error('Error during call to suggestCharts:', error);\n",
              "      }\n",
              "      quickchartButtonEl.classList.remove('colab-df-spinner');\n",
              "      quickchartButtonEl.classList.add('colab-df-quickchart-complete');\n",
              "    }\n",
              "    (() => {\n",
              "      let quickchartButtonEl =\n",
              "        document.querySelector('#df-892efa71-9ed8-4a82-a09e-a2ad259b0618 button');\n",
              "      quickchartButtonEl.style.display =\n",
              "        google.colab.kernel.accessAllowed ? 'block' : 'none';\n",
              "    })();\n",
              "  </script>\n",
              "</div>\n",
              "\n",
              "    </div>\n",
              "  </div>\n"
            ],
            "application/vnd.google.colaboratory.intrinsic+json": {
              "type": "dataframe",
              "variable_name": "df"
            }
          },
          "metadata": {},
          "execution_count": 3
        }
      ]
    },
    {
      "cell_type": "code",
      "source": [
        "# Contar valores ausentes por coluna\n",
        "missing_values = df.isna().sum()\n",
        "\n",
        "# Mostrar valores ausentes para cada coluna\n",
        "print(missing_values)"
      ],
      "metadata": {
        "colab": {
          "base_uri": "https://localhost:8080/"
        },
        "id": "7-VhAiFtBYsj",
        "outputId": "ca65f0a6-022c-4bfe-8627-fd97a7480d15"
      },
      "execution_count": 4,
      "outputs": [
        {
          "output_type": "stream",
          "name": "stdout",
          "text": [
            "id                     0\n",
            "created_at             0\n",
            "updated_at             0\n",
            "is_active              0\n",
            "price                  0\n",
            "brand                  0\n",
            "url                    0\n",
            "crawl_date             0\n",
            "year_reference         0\n",
            "month_reference        0\n",
            "description         4846\n",
            "code_model             0\n",
            "model                  0\n",
            "year_fabrication    4846\n",
            "year_model             0\n",
            "title                  0\n",
            "mileage                5\n",
            "gear                   0\n",
            "fuel                   0\n",
            "bodywork               0\n",
            "city                   0\n",
            "state                  0\n",
            "dtype: int64\n"
          ]
        }
      ]
    },
    {
      "cell_type": "code",
      "source": [
        "# Descartar registros onde a coluna 'mileage' está ausente\n",
        "df = df.dropna(subset=['mileage'])\n",
        "\n",
        "# Confirmar a remoção\n",
        "print(f\"Número Total de Registros após descartar ausentes em 'mileage': {df.shape[0]}\")"
      ],
      "metadata": {
        "colab": {
          "base_uri": "https://localhost:8080/"
        },
        "id": "iniQqRQ5Bb70",
        "outputId": "74e426ec-be71-457c-fa3a-d6e3340663f4"
      },
      "execution_count": 5,
      "outputs": [
        {
          "output_type": "stream",
          "name": "stdout",
          "text": [
            "Número Total de Registros após descartar ausentes em 'mileage': 4841\n"
          ]
        }
      ]
    },
    {
      "cell_type": "code",
      "source": [
        "## descartando as features irrelevantes (colunas)\n",
        "df.drop([\"id\", \"created_at\", \"updated_at\", \"is_active\", \"crawl_date\", \"url\",\n",
        "         \"year_reference\", \"month_reference\", \"code_model\", \"year_fabrication\",\n",
        "         \"description\", \"title\"], axis=1, inplace=True)\n",
        "\n",
        "## verificando as features após descartar recursos indesejados\n",
        "df.columns"
      ],
      "metadata": {
        "colab": {
          "base_uri": "https://localhost:8080/"
        },
        "id": "Rrr0OylYBfbL",
        "outputId": "7c159fc6-67fd-4912-f322-6e48f9ebc1d2"
      },
      "execution_count": 6,
      "outputs": [
        {
          "output_type": "execute_result",
          "data": {
            "text/plain": [
              "Index(['price', 'brand', 'model', 'year_model', 'mileage', 'gear', 'fuel',\n",
              "       'bodywork', 'city', 'state'],\n",
              "      dtype='object')"
            ]
          },
          "metadata": {},
          "execution_count": 6
        }
      ]
    },
    {
      "cell_type": "code",
      "source": [
        "import datetime\n",
        "\n",
        "# Idade do carro\n",
        "current_year = datetime.datetime.now().year\n",
        "df['age_years'] = current_year - df['year_model']\n",
        "\n",
        "# diferença entre o preço de um veículo e o preço médio dos veículos com o mesmo modelo e ano modelo\n",
        "df['price_deviation'] = df['price'] - df.groupby(['model', 'year_model'])['price'].transform('mean')\n",
        "\n",
        "# Preço médio por marca\n",
        "brand_avg = df.groupby('brand')['price'].transform('mean')\n",
        "df['brand_avg_price'] = brand_avg\n",
        "\n",
        "# Preço médio por estado\n",
        "state_avg = df.groupby('state')['price'].transform('mean')\n",
        "df['state_avg_price'] = state_avg\n",
        "\n",
        "# Preço médio por cidade\n",
        "city_avg = df.groupby('city')['price'].transform('mean')\n",
        "df['city_avg_price'] = city_avg\n",
        "\n",
        "# Marcas de luxo (ajuste conforme necessário)\n",
        "luxury_brands = ['PORSCHE', 'JAGUAR', 'MERCEDES-BENZ', 'BMW', 'LAND ROVER', 'VOLVO']\n",
        "df['is_luxury_brand'] = df['brand'].apply(lambda x: 1 if x in luxury_brands else 0)"
      ],
      "metadata": {
        "id": "0nfnGmmDBim9"
      },
      "execution_count": 7,
      "outputs": []
    },
    {
      "cell_type": "code",
      "source": [
        "# Cálculo do IQR para detectar outliers\n",
        "Q1 = df['price'].quantile(0.25)\n",
        "Q3 = df['price'].quantile(0.75)\n",
        "IQR = Q3 - Q1\n",
        "\n",
        "# Limites inferior e superior\n",
        "lower_limit = Q1 - 1.5 * IQR\n",
        "upper_limit = Q3 + 1.5 * IQR\n",
        "\n",
        "# Filtrando os outliers\n",
        "df_clean = df[(df['price'] >= lower_limit) & (df['price'] <= upper_limit)]\n",
        "\n",
        "# Verificando os resultados\n",
        "print(f\"Dados originais: {len(df)} registros\")\n",
        "print(f\"Dados após remoção dos outliers: {len(df_clean)} registros\")\n",
        "\n",
        "# Exibindo as estatísticas descritivas do dataframe sem outliers\n",
        "print(df_clean['price'].describe())"
      ],
      "metadata": {
        "colab": {
          "base_uri": "https://localhost:8080/"
        },
        "id": "t1l8vXYKBmaM",
        "outputId": "87085168-1220-49fa-a8ca-d4edf4046dc0"
      },
      "execution_count": 8,
      "outputs": [
        {
          "output_type": "stream",
          "name": "stdout",
          "text": [
            "Dados originais: 4841 registros\n",
            "Dados após remoção dos outliers: 4670 registros\n",
            "count       4670.0000\n",
            "mean     9834804.9550\n",
            "std      2884612.4249\n",
            "min      1050000.0000\n",
            "25%      7399000.0000\n",
            "50%      9229000.0000\n",
            "75%     11999000.0000\n",
            "max     19355000.0000\n",
            "Name: price, dtype: float64\n"
          ]
        }
      ]
    },
    {
      "cell_type": "code",
      "source": [
        "df.info()"
      ],
      "metadata": {
        "colab": {
          "base_uri": "https://localhost:8080/"
        },
        "id": "VaODPka3CMA8",
        "outputId": "fd7f78f8-b9d9-4734-dc93-934e4f33f7bb"
      },
      "execution_count": 9,
      "outputs": [
        {
          "output_type": "stream",
          "name": "stdout",
          "text": [
            "<class 'pandas.core.frame.DataFrame'>\n",
            "Index: 4841 entries, 0 to 4845\n",
            "Data columns (total 16 columns):\n",
            " #   Column           Non-Null Count  Dtype  \n",
            "---  ------           --------------  -----  \n",
            " 0   price            4841 non-null   float64\n",
            " 1   brand            4841 non-null   object \n",
            " 2   model            4841 non-null   object \n",
            " 3   year_model       4841 non-null   int64  \n",
            " 4   mileage          4841 non-null   float64\n",
            " 5   gear             4841 non-null   object \n",
            " 6   fuel             4841 non-null   object \n",
            " 7   bodywork         4841 non-null   object \n",
            " 8   city             4841 non-null   object \n",
            " 9   state            4841 non-null   object \n",
            " 10  age_years        4841 non-null   int64  \n",
            " 11  price_deviation  4841 non-null   float64\n",
            " 12  brand_avg_price  4841 non-null   float64\n",
            " 13  state_avg_price  4841 non-null   float64\n",
            " 14  city_avg_price   4841 non-null   float64\n",
            " 15  is_luxury_brand  4841 non-null   int64  \n",
            "dtypes: float64(6), int64(3), object(7)\n",
            "memory usage: 642.9+ KB\n"
          ]
        }
      ]
    },
    {
      "cell_type": "code",
      "source": [
        "import pickle"
      ],
      "metadata": {
        "id": "XpzuP12dB607"
      },
      "execution_count": 10,
      "outputs": []
    },
    {
      "cell_type": "code",
      "source": [
        "# Supondo que 'df' já tenha as novas features criadas.\n",
        "\n",
        "# 1. Identificar automaticamente as colunas categóricas e numéricas\n",
        "categorical_columns = df.select_dtypes(exclude=[\"int\", \"float\"]).columns.tolist()\n",
        "numerical_columns = df.select_dtypes(include=[\"int\", \"float\"]).columns.tolist()\n",
        "\n",
        "# Remover 'price' (variável alvo) das colunas numéricas\n",
        "numerical_columns.remove('price')\n",
        "\n",
        "# Separar X e y\n",
        "X = df.drop(columns=[\"price\"])\n",
        "y = df[\"price\"]\n"
      ],
      "metadata": {
        "id": "kxw_dpE8EWul"
      },
      "execution_count": 11,
      "outputs": []
    },
    {
      "cell_type": "code",
      "source": [
        "# 2. Aplicar o OneHotEncoder nas colunas categóricas\n",
        "ohe = OneHotEncoder(sparse_output=False, handle_unknown='ignore')\n",
        "encoded_data = ohe.fit_transform(X[categorical_columns])\n",
        "\n",
        "# Criar DataFrame com os dados codificados\n",
        "encoded_df = pd.DataFrame(encoded_data, columns=ohe.get_feature_names_out(categorical_columns), index=df.index)\n",
        "\n",
        "# Concatenar as colunas codificadas com as numéricas\n",
        "X = X.drop(columns=categorical_columns)\n",
        "X = pd.concat([X, encoded_df], axis=1)\n"
      ],
      "metadata": {
        "id": "rTp2ArHxLl0D"
      },
      "execution_count": 12,
      "outputs": []
    },
    {
      "cell_type": "code",
      "source": [
        "# 3. Aplicar o StandardScaler nas colunas numéricas (incluindo as novas features numéricas)\n",
        "scaler = StandardScaler()\n",
        "scaled_data = scaler.fit_transform(X[numerical_columns])\n",
        "\n",
        "# Criar um DataFrame com os dados escalonados\n",
        "scaled_df = pd.DataFrame(scaled_data, columns=numerical_columns, index=df.index)\n",
        "\n",
        "# Substituir as colunas numéricas originais pelos valores escalonados\n",
        "X[numerical_columns] = scaled_df"
      ],
      "metadata": {
        "id": "WKfvyXq_Lr1T"
      },
      "execution_count": 13,
      "outputs": []
    },
    {
      "cell_type": "code",
      "source": [
        "# 4. Dividir os dados em treino e teste\n",
        "X_train, X_test, y_train, y_test = train_test_split(X, y, test_size=0.2, random_state=0)"
      ],
      "metadata": {
        "id": "m5Wy1yfrLxnr"
      },
      "execution_count": 14,
      "outputs": []
    },
    {
      "cell_type": "code",
      "source": [
        "# 5. Treinar o modelo\n",
        "randfor_model = RandomForestRegressor()\n",
        "randfor_model.fit(X_train, y_train)"
      ],
      "metadata": {
        "colab": {
          "base_uri": "https://localhost:8080/",
          "height": 75
        },
        "id": "kY4gu7FWLyIv",
        "outputId": "8e4be9ac-01b4-4e94-b53c-f6fb74723455"
      },
      "execution_count": 15,
      "outputs": [
        {
          "output_type": "execute_result",
          "data": {
            "text/plain": [
              "RandomForestRegressor()"
            ],
            "text/html": [
              "<style>#sk-container-id-1 {color: black;}#sk-container-id-1 pre{padding: 0;}#sk-container-id-1 div.sk-toggleable {background-color: white;}#sk-container-id-1 label.sk-toggleable__label {cursor: pointer;display: block;width: 100%;margin-bottom: 0;padding: 0.3em;box-sizing: border-box;text-align: center;}#sk-container-id-1 label.sk-toggleable__label-arrow:before {content: \"▸\";float: left;margin-right: 0.25em;color: #696969;}#sk-container-id-1 label.sk-toggleable__label-arrow:hover:before {color: black;}#sk-container-id-1 div.sk-estimator:hover label.sk-toggleable__label-arrow:before {color: black;}#sk-container-id-1 div.sk-toggleable__content {max-height: 0;max-width: 0;overflow: hidden;text-align: left;background-color: #f0f8ff;}#sk-container-id-1 div.sk-toggleable__content pre {margin: 0.2em;color: black;border-radius: 0.25em;background-color: #f0f8ff;}#sk-container-id-1 input.sk-toggleable__control:checked~div.sk-toggleable__content {max-height: 200px;max-width: 100%;overflow: auto;}#sk-container-id-1 input.sk-toggleable__control:checked~label.sk-toggleable__label-arrow:before {content: \"▾\";}#sk-container-id-1 div.sk-estimator input.sk-toggleable__control:checked~label.sk-toggleable__label {background-color: #d4ebff;}#sk-container-id-1 div.sk-label input.sk-toggleable__control:checked~label.sk-toggleable__label {background-color: #d4ebff;}#sk-container-id-1 input.sk-hidden--visually {border: 0;clip: rect(1px 1px 1px 1px);clip: rect(1px, 1px, 1px, 1px);height: 1px;margin: -1px;overflow: hidden;padding: 0;position: absolute;width: 1px;}#sk-container-id-1 div.sk-estimator {font-family: monospace;background-color: #f0f8ff;border: 1px dotted black;border-radius: 0.25em;box-sizing: border-box;margin-bottom: 0.5em;}#sk-container-id-1 div.sk-estimator:hover {background-color: #d4ebff;}#sk-container-id-1 div.sk-parallel-item::after {content: \"\";width: 100%;border-bottom: 1px solid gray;flex-grow: 1;}#sk-container-id-1 div.sk-label:hover label.sk-toggleable__label {background-color: #d4ebff;}#sk-container-id-1 div.sk-serial::before {content: \"\";position: absolute;border-left: 1px solid gray;box-sizing: border-box;top: 0;bottom: 0;left: 50%;z-index: 0;}#sk-container-id-1 div.sk-serial {display: flex;flex-direction: column;align-items: center;background-color: white;padding-right: 0.2em;padding-left: 0.2em;position: relative;}#sk-container-id-1 div.sk-item {position: relative;z-index: 1;}#sk-container-id-1 div.sk-parallel {display: flex;align-items: stretch;justify-content: center;background-color: white;position: relative;}#sk-container-id-1 div.sk-item::before, #sk-container-id-1 div.sk-parallel-item::before {content: \"\";position: absolute;border-left: 1px solid gray;box-sizing: border-box;top: 0;bottom: 0;left: 50%;z-index: -1;}#sk-container-id-1 div.sk-parallel-item {display: flex;flex-direction: column;z-index: 1;position: relative;background-color: white;}#sk-container-id-1 div.sk-parallel-item:first-child::after {align-self: flex-end;width: 50%;}#sk-container-id-1 div.sk-parallel-item:last-child::after {align-self: flex-start;width: 50%;}#sk-container-id-1 div.sk-parallel-item:only-child::after {width: 0;}#sk-container-id-1 div.sk-dashed-wrapped {border: 1px dashed gray;margin: 0 0.4em 0.5em 0.4em;box-sizing: border-box;padding-bottom: 0.4em;background-color: white;}#sk-container-id-1 div.sk-label label {font-family: monospace;font-weight: bold;display: inline-block;line-height: 1.2em;}#sk-container-id-1 div.sk-label-container {text-align: center;}#sk-container-id-1 div.sk-container {/* jupyter's `normalize.less` sets `[hidden] { display: none; }` but bootstrap.min.css set `[hidden] { display: none !important; }` so we also need the `!important` here to be able to override the default hidden behavior on the sphinx rendered scikit-learn.org. See: https://github.com/scikit-learn/scikit-learn/issues/21755 */display: inline-block !important;position: relative;}#sk-container-id-1 div.sk-text-repr-fallback {display: none;}</style><div id=\"sk-container-id-1\" class=\"sk-top-container\"><div class=\"sk-text-repr-fallback\"><pre>RandomForestRegressor()</pre><b>In a Jupyter environment, please rerun this cell to show the HTML representation or trust the notebook. <br />On GitHub, the HTML representation is unable to render, please try loading this page with nbviewer.org.</b></div><div class=\"sk-container\" hidden><div class=\"sk-item\"><div class=\"sk-estimator sk-toggleable\"><input class=\"sk-toggleable__control sk-hidden--visually\" id=\"sk-estimator-id-1\" type=\"checkbox\" checked><label for=\"sk-estimator-id-1\" class=\"sk-toggleable__label sk-toggleable__label-arrow\">RandomForestRegressor</label><div class=\"sk-toggleable__content\"><pre>RandomForestRegressor()</pre></div></div></div></div></div>"
            ]
          },
          "metadata": {},
          "execution_count": 15
        }
      ]
    },
    {
      "cell_type": "code",
      "source": [
        "# 6. Salvar os artefatos\n",
        "with open('onehotencoder.pkl', 'wb') as file:\n",
        "    pickle.dump(ohe, file)\n",
        "\n",
        "with open('scaler.pkl', 'wb') as file:\n",
        "    pickle.dump(scaler, file)\n",
        "\n",
        "with open('randfor_model.pkl', 'wb') as file:\n",
        "    pickle.dump(randfor_model, file)\n",
        "\n",
        "print(\"Artefatos salvos com sucesso!\")"
      ],
      "metadata": {
        "colab": {
          "base_uri": "https://localhost:8080/"
        },
        "id": "PjC4i1izL2ar",
        "outputId": "26159786-f7b8-4701-8a0e-e3333fc0b81f"
      },
      "execution_count": 16,
      "outputs": [
        {
          "output_type": "stream",
          "name": "stdout",
          "text": [
            "Artefatos salvos com sucesso!\n"
          ]
        }
      ]
    },
    {
      "cell_type": "code",
      "source": [
        "# Carregar os artefatos salvos\n",
        "with open('onehotencoder.pkl', 'rb') as file:\n",
        "    ohe = pickle.load(file)\n",
        "\n",
        "with open('scaler.pkl', 'rb') as file:\n",
        "    scaler = pickle.load(file)\n",
        "\n",
        "with open('randfor_model.pkl', 'rb') as file:\n",
        "    model = pickle.load(file)"
      ],
      "metadata": {
        "id": "vTQkPINcMBt0"
      },
      "execution_count": 17,
      "outputs": []
    },
    {
      "cell_type": "code",
      "source": [
        "## Função de avaliação de modelo\n",
        "def model_eval(model, X_test, y_test):  # Pass X_test and y_test to the function\n",
        "    y_pred = model.predict(X_test)  # Make predictions using the model\n",
        "    r2 = r2_score(y_test, y_pred)\n",
        "    adj_r2 = 1 - (1 - r2) * (len(y_test) - 1) / (len(y_test) - X_test.shape[1] - 1)\n",
        "    mse = mean_squared_error(y_test, y_pred)\n",
        "    rmse = np.sqrt(mse)\n",
        "    mae = mean_absolute_error(y_test, y_pred)\n",
        "\n",
        "    # Create a DataFrame with the calculated metrics\n",
        "    preds = pd.DataFrame({\n",
        "        \"Nome_Modelo\": [type(model).__name__],  # Use model's class name for model name\n",
        "        \"Valor_R2\": [r2],\n",
        "        \"Valor_adj_R2\": [adj_r2],\n",
        "        \"MSE\": [mse],\n",
        "        \"RMSE\": [rmse],\n",
        "        \"MAE\": [mae]\n",
        "    })\n",
        "\n",
        "    return preds.sort_values(by=\"Valor_R2\", ascending=False)\n",
        "\n",
        "## Avaliação do modelo\n",
        "model_eval(model, X_test, y_test)  # Call the function with model, X_test, and y_test\n"
      ],
      "metadata": {
        "colab": {
          "base_uri": "https://localhost:8080/",
          "height": 81
        },
        "id": "5xaju755WfDn",
        "outputId": "64f91558-8bac-4ce7-a047-452f8c8d97d7"
      },
      "execution_count": 18,
      "outputs": [
        {
          "output_type": "execute_result",
          "data": {
            "text/plain": [
              "             Nome_Modelo  Valor_R2  Valor_adj_R2                MSE  \\\n",
              "0  RandomForestRegressor    0.8451        0.7432 3542344562232.2734   \n",
              "\n",
              "          RMSE         MAE  \n",
              "0 1882111.7295 436009.7007  "
            ],
            "text/html": [
              "\n",
              "  <div id=\"df-9d92f72b-e61f-46bc-adf4-affb963c1486\" class=\"colab-df-container\">\n",
              "    <div>\n",
              "<style scoped>\n",
              "    .dataframe tbody tr th:only-of-type {\n",
              "        vertical-align: middle;\n",
              "    }\n",
              "\n",
              "    .dataframe tbody tr th {\n",
              "        vertical-align: top;\n",
              "    }\n",
              "\n",
              "    .dataframe thead th {\n",
              "        text-align: right;\n",
              "    }\n",
              "</style>\n",
              "<table border=\"1\" class=\"dataframe\">\n",
              "  <thead>\n",
              "    <tr style=\"text-align: right;\">\n",
              "      <th></th>\n",
              "      <th>Nome_Modelo</th>\n",
              "      <th>Valor_R2</th>\n",
              "      <th>Valor_adj_R2</th>\n",
              "      <th>MSE</th>\n",
              "      <th>RMSE</th>\n",
              "      <th>MAE</th>\n",
              "    </tr>\n",
              "  </thead>\n",
              "  <tbody>\n",
              "    <tr>\n",
              "      <th>0</th>\n",
              "      <td>RandomForestRegressor</td>\n",
              "      <td>0.8451</td>\n",
              "      <td>0.7432</td>\n",
              "      <td>3542344562232.2734</td>\n",
              "      <td>1882111.7295</td>\n",
              "      <td>436009.7007</td>\n",
              "    </tr>\n",
              "  </tbody>\n",
              "</table>\n",
              "</div>\n",
              "    <div class=\"colab-df-buttons\">\n",
              "\n",
              "  <div class=\"colab-df-container\">\n",
              "    <button class=\"colab-df-convert\" onclick=\"convertToInteractive('df-9d92f72b-e61f-46bc-adf4-affb963c1486')\"\n",
              "            title=\"Convert this dataframe to an interactive table.\"\n",
              "            style=\"display:none;\">\n",
              "\n",
              "  <svg xmlns=\"http://www.w3.org/2000/svg\" height=\"24px\" viewBox=\"0 -960 960 960\">\n",
              "    <path d=\"M120-120v-720h720v720H120Zm60-500h600v-160H180v160Zm220 220h160v-160H400v160Zm0 220h160v-160H400v160ZM180-400h160v-160H180v160Zm440 0h160v-160H620v160ZM180-180h160v-160H180v160Zm440 0h160v-160H620v160Z\"/>\n",
              "  </svg>\n",
              "    </button>\n",
              "\n",
              "  <style>\n",
              "    .colab-df-container {\n",
              "      display:flex;\n",
              "      gap: 12px;\n",
              "    }\n",
              "\n",
              "    .colab-df-convert {\n",
              "      background-color: #E8F0FE;\n",
              "      border: none;\n",
              "      border-radius: 50%;\n",
              "      cursor: pointer;\n",
              "      display: none;\n",
              "      fill: #1967D2;\n",
              "      height: 32px;\n",
              "      padding: 0 0 0 0;\n",
              "      width: 32px;\n",
              "    }\n",
              "\n",
              "    .colab-df-convert:hover {\n",
              "      background-color: #E2EBFA;\n",
              "      box-shadow: 0px 1px 2px rgba(60, 64, 67, 0.3), 0px 1px 3px 1px rgba(60, 64, 67, 0.15);\n",
              "      fill: #174EA6;\n",
              "    }\n",
              "\n",
              "    .colab-df-buttons div {\n",
              "      margin-bottom: 4px;\n",
              "    }\n",
              "\n",
              "    [theme=dark] .colab-df-convert {\n",
              "      background-color: #3B4455;\n",
              "      fill: #D2E3FC;\n",
              "    }\n",
              "\n",
              "    [theme=dark] .colab-df-convert:hover {\n",
              "      background-color: #434B5C;\n",
              "      box-shadow: 0px 1px 3px 1px rgba(0, 0, 0, 0.15);\n",
              "      filter: drop-shadow(0px 1px 2px rgba(0, 0, 0, 0.3));\n",
              "      fill: #FFFFFF;\n",
              "    }\n",
              "  </style>\n",
              "\n",
              "    <script>\n",
              "      const buttonEl =\n",
              "        document.querySelector('#df-9d92f72b-e61f-46bc-adf4-affb963c1486 button.colab-df-convert');\n",
              "      buttonEl.style.display =\n",
              "        google.colab.kernel.accessAllowed ? 'block' : 'none';\n",
              "\n",
              "      async function convertToInteractive(key) {\n",
              "        const element = document.querySelector('#df-9d92f72b-e61f-46bc-adf4-affb963c1486');\n",
              "        const dataTable =\n",
              "          await google.colab.kernel.invokeFunction('convertToInteractive',\n",
              "                                                    [key], {});\n",
              "        if (!dataTable) return;\n",
              "\n",
              "        const docLinkHtml = 'Like what you see? Visit the ' +\n",
              "          '<a target=\"_blank\" href=https://colab.research.google.com/notebooks/data_table.ipynb>data table notebook</a>'\n",
              "          + ' to learn more about interactive tables.';\n",
              "        element.innerHTML = '';\n",
              "        dataTable['output_type'] = 'display_data';\n",
              "        await google.colab.output.renderOutput(dataTable, element);\n",
              "        const docLink = document.createElement('div');\n",
              "        docLink.innerHTML = docLinkHtml;\n",
              "        element.appendChild(docLink);\n",
              "      }\n",
              "    </script>\n",
              "  </div>\n",
              "\n",
              "\n",
              "    </div>\n",
              "  </div>\n"
            ],
            "application/vnd.google.colaboratory.intrinsic+json": {
              "type": "dataframe",
              "summary": "{\n  \"name\": \"model_eval(model, X_test, y_test)  # Call the function with model, X_test, and y_test\",\n  \"rows\": 1,\n  \"fields\": [\n    {\n      \"column\": \"Nome_Modelo\",\n      \"properties\": {\n        \"dtype\": \"string\",\n        \"num_unique_values\": 1,\n        \"samples\": [\n          \"RandomForestRegressor\"\n        ],\n        \"semantic_type\": \"\",\n        \"description\": \"\"\n      }\n    },\n    {\n      \"column\": \"Valor_R2\",\n      \"properties\": {\n        \"dtype\": \"number\",\n        \"std\": null,\n        \"min\": 0.8450857769019845,\n        \"max\": 0.8450857769019845,\n        \"num_unique_values\": 1,\n        \"samples\": [\n          0.8450857769019845\n        ],\n        \"semantic_type\": \"\",\n        \"description\": \"\"\n      }\n    },\n    {\n      \"column\": \"Valor_adj_R2\",\n      \"properties\": {\n        \"dtype\": \"number\",\n        \"std\": null,\n        \"min\": 0.7432243699334264,\n        \"max\": 0.7432243699334264,\n        \"num_unique_values\": 1,\n        \"samples\": [\n          0.7432243699334264\n        ],\n        \"semantic_type\": \"\",\n        \"description\": \"\"\n      }\n    },\n    {\n      \"column\": \"MSE\",\n      \"properties\": {\n        \"dtype\": \"number\",\n        \"std\": null,\n        \"min\": 3542344562232.2734,\n        \"max\": 3542344562232.2734,\n        \"num_unique_values\": 1,\n        \"samples\": [\n          3542344562232.2734\n        ],\n        \"semantic_type\": \"\",\n        \"description\": \"\"\n      }\n    },\n    {\n      \"column\": \"RMSE\",\n      \"properties\": {\n        \"dtype\": \"number\",\n        \"std\": null,\n        \"min\": 1882111.7294763012,\n        \"max\": 1882111.7294763012,\n        \"num_unique_values\": 1,\n        \"samples\": [\n          1882111.7294763012\n        ],\n        \"semantic_type\": \"\",\n        \"description\": \"\"\n      }\n    },\n    {\n      \"column\": \"MAE\",\n      \"properties\": {\n        \"dtype\": \"number\",\n        \"std\": null,\n        \"min\": 436009.7007223942,\n        \"max\": 436009.7007223942,\n        \"num_unique_values\": 1,\n        \"samples\": [\n          436009.7007223942\n        ],\n        \"semantic_type\": \"\",\n        \"description\": \"\"\n      }\n    }\n  ]\n}"
            }
          },
          "metadata": {},
          "execution_count": 18
        }
      ]
    },
    {
      "cell_type": "code",
      "source": [
        "# Obter a lista de colunas e a ordem de X_test\n",
        "print(f\"Total de colunas: {len(X_test.columns)}\")\n",
        "print(X_test.columns.tolist())\n"
      ],
      "metadata": {
        "colab": {
          "base_uri": "https://localhost:8080/"
        },
        "id": "CDrTAlg9nEg3",
        "outputId": "a1087465-1eaf-4df4-cdcd-41215c476fd8"
      },
      "execution_count": 26,
      "outputs": [
        {
          "output_type": "stream",
          "name": "stdout",
          "text": [
            "Total de colunas: 384\n",
            "['year_model', 'mileage', 'age_years', 'price_deviation', 'brand_avg_price', 'state_avg_price', 'city_avg_price', 'is_luxury_brand', 'brand_AUDI', 'brand_BMW', 'brand_BYD', 'brand_CHERY', 'brand_CHEVROLET', 'brand_CITROEN', 'brand_FIAT', 'brand_FORD', 'brand_HONDA', 'brand_HYUNDAI', 'brand_JAGUAR', 'brand_JEEP', 'brand_KIA', 'brand_LAND', 'brand_MERCEDES-BENZ', 'brand_MINI', 'brand_MITSUBISHI', 'brand_NISSAN', 'brand_PEUGEOT', 'brand_PORSCHE', 'brand_RAM', 'brand_RENAULT', 'brand_SUZUKI', 'brand_TOYOTA', 'brand_TROLLER', 'brand_VOLKSWAGEN', 'brand_VOLVO', 'brand_WILLYS', 'model_118I', 'model_120I', 'model_2008', 'model_208', 'model_2500', 'model_3008', 'model_308', 'model_316I', 'model_320I', 'model_328I', 'model_330I', 'model_406', 'model_430I', 'model_718', 'model_745LE', 'model_911', 'model_A 200', 'model_A 250', 'model_A3', 'model_A4', 'model_A6', 'model_ACCORD', 'model_AIRCROSS', 'model_AMAROK', 'model_ARGO', 'model_ARRIZO 6 PRO', 'model_ASX', 'model_AZERA', 'model_B 200', 'model_BRONCO SPORT', 'model_C 180', 'model_C 200', 'model_C 250', 'model_C 300', 'model_C3', 'model_C4 CACTUS', 'model_CAPTIVA', 'model_CAPTUR', 'model_CAYENNE', 'model_CELTA', 'model_CERATO', 'model_CITY', 'model_CIVIC', 'model_CLA 180', 'model_CLA 35 AMG', 'model_COMMANDER', 'model_COMPASS', 'model_COOPER', 'model_COROLLA', 'model_COROLLA CROSS', 'model_CORSA', 'model_CORVETTE', 'model_CRETA', 'model_CRONOS', 'model_CROSS UP', 'model_CROSSFOX', 'model_CRUZE', 'model_CRV', 'model_D20', 'model_DOBLO', 'model_DUSTER', 'model_DUSTER OROCH', 'model_E 250', 'model_ECLIPSE CROSS', 'model_ECOSPORT', 'model_EDGE', 'model_EQUINOX', 'model_ETIOS', 'model_EXPERT', 'model_F-150', 'model_F-250', 'model_F-PACE', 'model_FASTBACK', 'model_FIESTA', 'model_FIORINO', 'model_FIT', 'model_FLUENCE', 'model_FOCUS', 'model_FOX', 'model_FUSION', 'model_GLA 200', 'model_GLA 250', 'model_GLADIATOR', 'model_GLB 200', 'model_GLC 220D', 'model_GLC 250', 'model_GLC 43 AMG', 'model_GLE 400', 'model_GOL', 'model_GOLF', 'model_GRAND CHEROKEE', 'model_GRAND SIENA', 'model_HB20', 'model_HB20S', 'model_HB20X', 'model_HILUX', 'model_HILUX SW4', 'model_HR', 'model_HR-V', 'model_I-PACE', 'model_I30', 'model_IDEA', 'model_IX', 'model_IX1', 'model_IX35', 'model_JEEP', 'model_JETTA', 'model_JIMNY', 'model_JOY', 'model_KA', 'model_KARDIAN', 'model_KICKS', 'model_KWID', 'model_L200', 'model_L200 OUTDOOR', 'model_L200 TRITON', 'model_LAGUNA', 'model_LEAF', 'model_LOGAN', 'model_M3', 'model_MACAN', 'model_MASTER', 'model_MOBI', 'model_MONTANA', 'model_MUSTANG', 'model_NEW BEETLE', 'model_NIVUS', 'model_ONIX', 'model_OROCH', 'model_OUTLANDER', 'model_PAJERO', 'model_PAJERO DAKAR', 'model_PAJERO FULL', 'model_PAJERO SPORT', 'model_PAJERO TR4', 'model_PALIO', 'model_PALIO WEEKEND', 'model_PANAMERA', 'model_PARATI', 'model_PARTNER RAPID', 'model_PASSAT VARIANT', 'model_POLO HATCH', 'model_PRISMA', 'model_PULSE', 'model_PUNTO', 'model_Q3', 'model_Q5', 'model_Q7', 'model_R8', 'model_RAMPAGE', 'model_RANGER', 'model_RAV4', 'model_RENEGADE', 'model_ROVER DEFENDER', 'model_ROVER DISCOVERY', 'model_ROVER DISCOVERY 4', 'model_ROVER DISCOVERY SPORT', 'model_ROVER RANGE ROVER EVOQUE', 'model_ROVER RANGE ROVER SPORT', 'model_ROVER RANGE ROVER VELAR', 'model_S10', 'model_SANDERO', 'model_SANTA FE', 'model_SAVEIRO', 'model_SCUDO', 'model_SENTRA', 'model_SIENA', 'model_SILVERADO', 'model_SORENTO', 'model_SOUL', 'model_SPIN', 'model_SPORTAGE', 'model_STEPWAY', 'model_STILO', 'model_STRADA', 'model_T-CROSS', 'model_T4', 'model_TAN', 'model_TAOS', 'model_TAYCAN', 'model_TERRITORY', 'model_TIGGO', 'model_TIGGO 2', 'model_TIGGO 5X', 'model_TIGGO 5X PRO', 'model_TIGGO 7', 'model_TIGGO 7 PRO', 'model_TIGGO 8', 'model_TIGGO 8 PRO', 'model_TIGUAN', 'model_TITANO', 'model_TORO', 'model_TRACKER', 'model_TRAILBLAZER', 'model_TUCSON', 'model_UNO', 'model_UP', 'model_VERSA', 'model_VIRTUS', 'model_VITARA', 'model_VOYAGE', 'model_WRANGLER', 'model_X1', 'model_X2', 'model_X4', 'model_X6', 'model_XC40', 'model_XC60', 'model_XC90', 'model_XE', 'model_YARIS', 'gear_AUTOMATICO', 'gear_CVT', 'gear_MANUAL', 'gear_SEMI-AUTOMATICO', 'fuel_ALCOOL', 'fuel_DIESEL', 'fuel_ELETRICO', 'fuel_FLEX', 'fuel_GASOLINA', 'fuel_GNV', 'fuel_HIBRIDO', 'bodywork_CONVERSIVEL', 'bodywork_COUPE', 'bodywork_HATCH', 'bodywork_MINIVAN', 'bodywork_PERUA', 'bodywork_PICAPE', 'bodywork_PICAPE CABINE DUPLA', 'bodywork_SEDAN', 'bodywork_SUV', 'bodywork_UTILITARIO', 'city_AMERICANA', 'city_ANANINDEUA', 'city_ANAPOLIS', 'city_APARECIDA DE GOIANIA', 'city_ARACAJU', 'city_ARUJA', 'city_BARUERI', 'city_BAURU', 'city_BELEM', 'city_BELO HORIZONTE', 'city_BETIM', 'city_BLUMENAU', 'city_BRASILIA', 'city_BRUMADINHO', 'city_BURITI ALEGRE', 'city_CACHOEIRA DOURADA', 'city_CAMPINA GRANDE', 'city_CAMPINAS', 'city_CAMPOS DOS GOYTACAZES', 'city_CANOAS', 'city_CARAPICUIBA', 'city_CAXIAS DO SUL', 'city_CHAPECO', 'city_CONTAGEM', 'city_COTIA', 'city_CUIABA', 'city_CURITIBA', 'city_DUQUE DE CAXIAS', 'city_FLORIANOPOLIS', 'city_FORTALEZA', 'city_GOIANIA', 'city_GUARULHOS', 'city_IBIUNA', 'city_INDAIATUBA', 'city_ITAGUAI', 'city_ITAJAI', 'city_ITAJUBA', 'city_JARAGUA DO SUL', 'city_JOAO PESSOA', 'city_JOINVILLE', 'city_JUNDIAI', 'city_LAGES', 'city_LAURO DE FREITAS', 'city_LIMEIRA', 'city_LONDRINA', 'city_MACAPA', 'city_MACEIO', 'city_MARINGA', 'city_MOGI DAS CRUZES', 'city_MOGI GUACU', 'city_MOGI MIRIM', 'city_MONTES CLAROS', 'city_MONTIVIDIU', 'city_MORRINHOS', 'city_NEROPOLIS', 'city_NITEROI', 'city_NOVA IGUACU', 'city_OSASCO', 'city_PALMAS', 'city_PATOS', 'city_PELOTAS', 'city_PIRACICABA', 'city_PIRENOPOLIS', 'city_PORTO ALEGRE', 'city_PRAIA GRANDE', 'city_RECIFE', 'city_RIBEIRAO PRETO', 'city_RIO DAS OSTRAS', 'city_RIO DE JANEIRO', 'city_RIO VERDE', 'city_SANTO ANDRE', 'city_SANTOS', 'city_SAO BERNARDO DO CAMPO', 'city_SAO CAETANO DO SUL', 'city_SAO CARLOS', 'city_SAO JOSE', 'city_SAO JOSE DO RIO PRETO', 'city_SAO JOSE DOS CAMPOS', 'city_SAO LUIS', 'city_SAO PAULO', 'city_SERRA', 'city_SIMOES FILHO', 'city_SOBRAL', 'city_SOROCABA', 'city_TAUBATE', 'city_TERESINA', 'city_TIANGUA', 'city_UBERLANDIA', 'city_VARZEA GRANDE', 'city_VIAMAO', 'city_VILA VELHA', 'city_VITORIA', 'city_VITORIA DA CONQUISTA', 'city_VOLTA REDONDA', 'city_VOTUPORANGA', 'state_AL', 'state_AP', 'state_BA', 'state_CE', 'state_DF', 'state_ES', 'state_GO', 'state_MA', 'state_MG', 'state_MT', 'state_PA', 'state_PB', 'state_PE', 'state_PI', 'state_PR', 'state_RJ', 'state_RS', 'state_SC', 'state_SE', 'state_SP', 'state_TO']\n"
          ]
        }
      ]
    },
    {
      "cell_type": "code",
      "source": [
        "import pandas as pd\n",
        "import numpy as np\n",
        "import datetime\n",
        "\n",
        "# Função para processar input_json e gerar previsão\n",
        "def predict_price(input_json, model, df, ohe, scaler):\n",
        "    # 1. Adicionar features calculadas\n",
        "    current_year = datetime.datetime.now().year\n",
        "    input_json['age_years'] = current_year - input_json['year_model']\n",
        "\n",
        "    # Substituir valores externos com médias dinâmicas\n",
        "    input_json['price_deviation'] = 0  # Ajustar conforme necessário\n",
        "    input_json['brand_avg_price'] = input_json['brand'].apply(lambda x: df[df['brand'] == x]['price'].mean())\n",
        "    input_json['state_avg_price'] = input_json['state'].apply(lambda x: df[df['state'] == x]['price'].mean())\n",
        "    input_json['city_avg_price'] = input_json['city'].apply(lambda x: df[df['city'] == x]['price'].mean())\n",
        "    input_json['is_luxury_brand'] = input_json['brand'].apply(lambda x: 1 if x in ['AUDI', 'BMW', 'MERCEDES'] else 0)\n",
        "\n",
        "    # 2. Pré-processar input_json\n",
        "    categorical_columns = ['brand', 'model', 'gear', 'fuel', 'bodywork', 'city', 'state']\n",
        "    numerical_columns = ['year_model', 'mileage', 'age_years', 'price_deviation',\n",
        "                         'brand_avg_price', 'state_avg_price', 'city_avg_price', 'is_luxury_brand']\n",
        "\n",
        "    # a. Aplicar o OneHotEncoder nas colunas categóricas\n",
        "    encoded_categorical = ohe.transform(input_json[categorical_columns])\n",
        "    encoded_categorical_df = pd.DataFrame(\n",
        "        encoded_categorical,\n",
        "        columns=ohe.get_feature_names_out(categorical_columns),\n",
        "        index=input_json.index\n",
        "    )\n",
        "\n",
        "    # b. Normalizar as colunas numéricas\n",
        "    normalized_numeric = scaler.transform(input_json[numerical_columns])\n",
        "    normalized_numeric_df = pd.DataFrame(\n",
        "        normalized_numeric,\n",
        "        columns=numerical_columns,\n",
        "        index=input_json.index\n",
        "    )\n",
        "\n",
        "    # c. Concatenar as colunas normalizadas e codificadas\n",
        "    final_input_df = pd.concat([normalized_numeric_df, encoded_categorical_df], axis=1)\n",
        "\n",
        "    # d. Garantir que o DataFrame tenha a mesma estrutura do X_test\n",
        "    # Adicionar colunas ausentes como 0\n",
        "    missing_columns = set(X_test.columns) - set(final_input_df.columns)\n",
        "    for col in missing_columns:\n",
        "        final_input_df[col] = 0\n",
        "\n",
        "    # Reordenar colunas para manter a ordem do modelo\n",
        "    final_input_df = final_input_df[X_test.columns]\n",
        "\n",
        "    # 3. Fazer a previsão com o modelo carregado\n",
        "    prediction = model.predict(final_input_df)[0]\n",
        "\n",
        "    # 4. Formatando o valor da previsão em estilo monetário\n",
        "    formatted_prediction = str(int(prediction))  # Converte para string e remove decimais\n",
        "    formatted_prediction = formatted_prediction.zfill(7)  # Preenche com zeros à esquerda\n",
        "    formatted_prediction = formatted_prediction[:2] + \".\" + formatted_prediction[2:5] + \",\" + formatted_prediction[5:]\n",
        "\n",
        "    return formatted_prediction\n",
        "\n",
        "# Exemplo de uso\n",
        "input_json = pd.DataFrame([{\n",
        "    \"brand\": \"HYUNDAI\",\n",
        "    \"model\": \"HB20\",\n",
        "    \"year_model\": 2018,\n",
        "    \"mileage\": 45000,\n",
        "    \"gear\": \"AUTOMATICO\",\n",
        "    \"fuel\": \"FLEX\",\n",
        "    \"bodywork\": \"SEDAN\",\n",
        "    \"city\": \"SAO PAULO\",\n",
        "    \"state\": \"SP\"\n",
        "}])\n",
        "\n",
        "previsao = predict_price(input_json, model, df, ohe, scaler)\n",
        "print(f\"Previsão para o veículo: R$ {previsao}\")\n"
      ],
      "metadata": {
        "colab": {
          "base_uri": "https://localhost:8080/"
        },
        "id": "TBg-cbitqWP3",
        "outputId": "b2fc4766-537b-47c0-98f7-b9b5ead3acf3"
      },
      "execution_count": 41,
      "outputs": [
        {
          "output_type": "stream",
          "name": "stdout",
          "text": [
            "Previsão para o veículo: R$ 83.173,40\n"
          ]
        }
      ]
    },
    {
      "cell_type": "code",
      "source": [
        "input_json.info()"
      ],
      "metadata": {
        "colab": {
          "base_uri": "https://localhost:8080/"
        },
        "id": "APJ-uA5qOTIV",
        "outputId": "9ba1c71a-d1e3-4ddf-fb67-1553100fdfe7"
      },
      "execution_count": 29,
      "outputs": [
        {
          "output_type": "stream",
          "name": "stdout",
          "text": [
            "<class 'pandas.core.frame.DataFrame'>\n",
            "RangeIndex: 1 entries, 0 to 0\n",
            "Data columns (total 15 columns):\n",
            " #   Column           Non-Null Count  Dtype  \n",
            "---  ------           --------------  -----  \n",
            " 0   brand            1 non-null      object \n",
            " 1   model            1 non-null      object \n",
            " 2   year_model       1 non-null      int64  \n",
            " 3   mileage          1 non-null      int64  \n",
            " 4   gear             1 non-null      object \n",
            " 5   fuel             1 non-null      object \n",
            " 6   bodywork         1 non-null      object \n",
            " 7   city             1 non-null      object \n",
            " 8   state            1 non-null      object \n",
            " 9   age_years        1 non-null      int64  \n",
            " 10  price_deviation  1 non-null      int64  \n",
            " 11  brand_avg_price  1 non-null      float64\n",
            " 12  state_avg_price  1 non-null      float64\n",
            " 13  city_avg_price   1 non-null      float64\n",
            " 14  is_luxury_brand  1 non-null      int64  \n",
            "dtypes: float64(3), int64(5), object(7)\n",
            "memory usage: 252.0+ bytes\n"
          ]
        }
      ]
    }
  ]
}