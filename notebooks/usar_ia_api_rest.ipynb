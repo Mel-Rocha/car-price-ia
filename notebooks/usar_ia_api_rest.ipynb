{
  "nbformat": 4,
  "nbformat_minor": 0,
  "metadata": {
    "colab": {
      "provenance": []
    },
    "kernelspec": {
      "name": "python3",
      "display_name": "Python 3"
    },
    "language_info": {
      "name": "python"
    }
  },
  "cells": [
    {
      "cell_type": "markdown",
      "source": [
        "# Objetivo\n"
      ],
      "metadata": {
        "id": "WIkK39LJM_TY"
      }
    },
    {
      "cell_type": "markdown",
      "source": [
        "\n",
        "1.  Gerar artefatos de IA (modelo, transformador e normalizador);\n",
        "\n",
        "2.   Carregar os artefatos, visando a reutilização sem necessidade de retreinar o modelo;\n",
        "3. Avaliar o desempenho do modelo por meio de métricas matemáticas;\n",
        "4. Simular o processo de previsão de preço via API Rest, por requisições POST, usando os artefatos carregados;\n",
        "5. Visualização gráfica do pipeline de dados.\n",
        "\n"
      ],
      "metadata": {
        "id": "uRrmdfcWNGtg"
      }
    },
    {
      "cell_type": "code",
      "execution_count": 27,
      "metadata": {
        "colab": {
          "base_uri": "https://localhost:8080/"
        },
        "id": "G0_kXhrmA9Gk",
        "outputId": "481f6a89-a26f-4019-f9b9-853a3a740013"
      },
      "outputs": [
        {
          "output_type": "stream",
          "name": "stdout",
          "text": [
            "Requirement already satisfied: scikit-learn==1.3.2 in /usr/local/lib/python3.11/dist-packages (1.3.2)\n",
            "Requirement already satisfied: numpy<2.0,>=1.17.3 in /usr/local/lib/python3.11/dist-packages (from scikit-learn==1.3.2) (1.26.4)\n",
            "Requirement already satisfied: scipy>=1.5.0 in /usr/local/lib/python3.11/dist-packages (from scikit-learn==1.3.2) (1.13.1)\n",
            "Requirement already satisfied: joblib>=1.1.1 in /usr/local/lib/python3.11/dist-packages (from scikit-learn==1.3.2) (1.4.2)\n",
            "Requirement already satisfied: threadpoolctl>=2.0.0 in /usr/local/lib/python3.11/dist-packages (from scikit-learn==1.3.2) (3.5.0)\n"
          ]
        }
      ],
      "source": [
        "!pip install scikit-learn==1.3.2  # Machine Learning e funções de pré-processamento de dados."
      ]
    },
    {
      "cell_type": "code",
      "source": [
        "## Importe bibliotecas relevantes para processamento e visualização de dados\n",
        "\n",
        "import numpy as np                # álgebra linear\n",
        "import pandas as pd               # processamento de dados, I/O de arquivo de conjunto de dados (por exemplo, pd.read_csv)\n",
        "import matplotlib.pyplot as plt   # visualização de dados e plotagem gráfica\n",
        "import seaborn as sns             # para visualizar distribuições aleatórias\n",
        "%matplotlib inline\n",
        "\n",
        "##  Adicione bibliotecas adicionais para preparar e executar o modelo\n",
        "\n",
        "from sklearn.preprocessing import StandardScaler\n",
        "from sklearn.preprocessing import OneHotEncoder\n",
        "from sklearn.model_selection import train_test_split\n",
        "from sklearn.metrics import r2_score, mean_squared_error, mean_absolute_error\n",
        "from sklearn.linear_model import LinearRegression\n",
        "from sklearn.tree import DecisionTreeRegressor\n",
        "from sklearn.ensemble import RandomForestRegressor\n",
        "from sklearn.ensemble import GradientBoostingRegressor\n",
        "import xgboost as xgb\n",
        "from sklearn.neighbors import KNeighborsRegressor\n",
        "from sklearn.svm import SVC\n",
        "from sklearn.ensemble import ExtraTreesRegressor\n",
        "\n",
        "pd.options.display.float_format = '{:.4f}'.format\n",
        "\n",
        "import warnings                    # para lidar com mensagens de aviso\n",
        "warnings.filterwarnings('ignore')"
      ],
      "metadata": {
        "id": "4LqyarwCBTFt"
      },
      "execution_count": 29,
      "outputs": []
    },
    {
      "cell_type": "code",
      "source": [
        "## Tenha baixado préviamente o conjunto de dados e feito o upload para o google colab\n",
        "df = pd.read_csv('machinetable.csv')\n",
        "df.head()"
      ],
      "metadata": {
        "colab": {
          "base_uri": "https://localhost:8080/",
          "height": 516
        },
        "id": "d-o2V7T8BVrT",
        "outputId": "74a6aada-4d29-421e-9a6e-1f503d00e353"
      },
      "execution_count": 30,
      "outputs": [
        {
          "output_type": "execute_result",
          "data": {
            "text/plain": [
              "                                     id                        created_at  \\\n",
              "0  69c52d79-667f-4d7b-800e-e20f06ebc3c2  2025-01-18 23:14:24.230645-03:00   \n",
              "1  f0f2b352-757c-40e6-bcaf-de1192383d9c  2025-01-18 23:14:27.002594-03:00   \n",
              "2  8e97ce37-b3e6-4db1-8a65-d603ae1ac62c  2025-01-18 23:16:30.360775-03:00   \n",
              "3  a4c59228-626e-406f-9036-d34360f8ffd5  2025-01-18 23:14:22.416528-03:00   \n",
              "4  185d7281-7322-4d28-a11e-b962d692d532  2025-01-18 23:14:22.416587-03:00   \n",
              "\n",
              "                         updated_at  is_active         price      brand  \\\n",
              "0  2025-01-18 23:14:24.230651-03:00       True  7699000.0000      HONDA   \n",
              "1  2025-01-18 23:14:27.002601-03:00       True  6999000.0000  CHEVROLET   \n",
              "2  2025-01-18 23:16:30.360782-03:00       True  6999000.0000    HYUNDAI   \n",
              "3  2025-01-18 23:14:22.416546-03:00       True  5250000.0000       FORD   \n",
              "4  2025-01-18 23:14:22.416593-03:00       True 17990000.0000  CHEVROLET   \n",
              "\n",
              "                                                 url  \\\n",
              "0  https://www.usadosbr.com//carros-e-utilitarios...   \n",
              "1  https://www.usadosbr.com//carros-e-utilitarios...   \n",
              "2  https://www.usadosbr.com//carros-e-utilitarios...   \n",
              "3  https://www.usadosbr.com//carros-e-utilitarios...   \n",
              "4  https://www.usadosbr.com//carros-e-utilitarios...   \n",
              "\n",
              "                         crawl_date  year_reference  month_reference  ...  \\\n",
              "0  2025-01-18 23:14:24.230660-03:00            2025                1  ...   \n",
              "1  2025-01-18 23:14:27.002613-03:00            2025                1  ...   \n",
              "2  2025-01-18 23:16:30.360794-03:00            2025                1  ...   \n",
              "3  2025-01-18 23:14:22.416561-03:00            2025                1  ...   \n",
              "4  2025-01-18 23:14:22.416602-03:00            2025                1  ...   \n",
              "\n",
              "      model year_fabrication year_model           title     mileage  \\\n",
              "0      CITY              NaN       2017      HONDA CITY  80000.0000   \n",
              "1      ONIX              NaN       2023  CHEVROLET ONIX  69902.0000   \n",
              "2      HB20              NaN       2022    HYUNDAI HB20  44744.0000   \n",
              "3  ECOSPORT              NaN       2013   FORD ECOSPORT 228000.0000   \n",
              "4       S10              NaN       2017   CHEVROLET S10 141000.0000   \n",
              "\n",
              "         gear    fuel             bodywork       city state  \n",
              "0         CVT    FLEX                SEDAN     CUIABA    MT  \n",
              "1      MANUAL    FLEX                HATCH    GOIANIA    GO  \n",
              "2      MANUAL    FLEX                HATCH  SAO PAULO    SP  \n",
              "3      MANUAL    FLEX                  SUV     IBIUNA    SP  \n",
              "4  AUTOMATICO  DIESEL  PICAPE CABINE DUPLA    GOIANIA    GO  \n",
              "\n",
              "[5 rows x 22 columns]"
            ],
            "text/html": [
              "\n",
              "  <div id=\"df-c12d4203-0500-43ca-aa81-e47b9ce51981\" class=\"colab-df-container\">\n",
              "    <div>\n",
              "<style scoped>\n",
              "    .dataframe tbody tr th:only-of-type {\n",
              "        vertical-align: middle;\n",
              "    }\n",
              "\n",
              "    .dataframe tbody tr th {\n",
              "        vertical-align: top;\n",
              "    }\n",
              "\n",
              "    .dataframe thead th {\n",
              "        text-align: right;\n",
              "    }\n",
              "</style>\n",
              "<table border=\"1\" class=\"dataframe\">\n",
              "  <thead>\n",
              "    <tr style=\"text-align: right;\">\n",
              "      <th></th>\n",
              "      <th>id</th>\n",
              "      <th>created_at</th>\n",
              "      <th>updated_at</th>\n",
              "      <th>is_active</th>\n",
              "      <th>price</th>\n",
              "      <th>brand</th>\n",
              "      <th>url</th>\n",
              "      <th>crawl_date</th>\n",
              "      <th>year_reference</th>\n",
              "      <th>month_reference</th>\n",
              "      <th>...</th>\n",
              "      <th>model</th>\n",
              "      <th>year_fabrication</th>\n",
              "      <th>year_model</th>\n",
              "      <th>title</th>\n",
              "      <th>mileage</th>\n",
              "      <th>gear</th>\n",
              "      <th>fuel</th>\n",
              "      <th>bodywork</th>\n",
              "      <th>city</th>\n",
              "      <th>state</th>\n",
              "    </tr>\n",
              "  </thead>\n",
              "  <tbody>\n",
              "    <tr>\n",
              "      <th>0</th>\n",
              "      <td>69c52d79-667f-4d7b-800e-e20f06ebc3c2</td>\n",
              "      <td>2025-01-18 23:14:24.230645-03:00</td>\n",
              "      <td>2025-01-18 23:14:24.230651-03:00</td>\n",
              "      <td>True</td>\n",
              "      <td>7699000.0000</td>\n",
              "      <td>HONDA</td>\n",
              "      <td>https://www.usadosbr.com//carros-e-utilitarios...</td>\n",
              "      <td>2025-01-18 23:14:24.230660-03:00</td>\n",
              "      <td>2025</td>\n",
              "      <td>1</td>\n",
              "      <td>...</td>\n",
              "      <td>CITY</td>\n",
              "      <td>NaN</td>\n",
              "      <td>2017</td>\n",
              "      <td>HONDA CITY</td>\n",
              "      <td>80000.0000</td>\n",
              "      <td>CVT</td>\n",
              "      <td>FLEX</td>\n",
              "      <td>SEDAN</td>\n",
              "      <td>CUIABA</td>\n",
              "      <td>MT</td>\n",
              "    </tr>\n",
              "    <tr>\n",
              "      <th>1</th>\n",
              "      <td>f0f2b352-757c-40e6-bcaf-de1192383d9c</td>\n",
              "      <td>2025-01-18 23:14:27.002594-03:00</td>\n",
              "      <td>2025-01-18 23:14:27.002601-03:00</td>\n",
              "      <td>True</td>\n",
              "      <td>6999000.0000</td>\n",
              "      <td>CHEVROLET</td>\n",
              "      <td>https://www.usadosbr.com//carros-e-utilitarios...</td>\n",
              "      <td>2025-01-18 23:14:27.002613-03:00</td>\n",
              "      <td>2025</td>\n",
              "      <td>1</td>\n",
              "      <td>...</td>\n",
              "      <td>ONIX</td>\n",
              "      <td>NaN</td>\n",
              "      <td>2023</td>\n",
              "      <td>CHEVROLET ONIX</td>\n",
              "      <td>69902.0000</td>\n",
              "      <td>MANUAL</td>\n",
              "      <td>FLEX</td>\n",
              "      <td>HATCH</td>\n",
              "      <td>GOIANIA</td>\n",
              "      <td>GO</td>\n",
              "    </tr>\n",
              "    <tr>\n",
              "      <th>2</th>\n",
              "      <td>8e97ce37-b3e6-4db1-8a65-d603ae1ac62c</td>\n",
              "      <td>2025-01-18 23:16:30.360775-03:00</td>\n",
              "      <td>2025-01-18 23:16:30.360782-03:00</td>\n",
              "      <td>True</td>\n",
              "      <td>6999000.0000</td>\n",
              "      <td>HYUNDAI</td>\n",
              "      <td>https://www.usadosbr.com//carros-e-utilitarios...</td>\n",
              "      <td>2025-01-18 23:16:30.360794-03:00</td>\n",
              "      <td>2025</td>\n",
              "      <td>1</td>\n",
              "      <td>...</td>\n",
              "      <td>HB20</td>\n",
              "      <td>NaN</td>\n",
              "      <td>2022</td>\n",
              "      <td>HYUNDAI HB20</td>\n",
              "      <td>44744.0000</td>\n",
              "      <td>MANUAL</td>\n",
              "      <td>FLEX</td>\n",
              "      <td>HATCH</td>\n",
              "      <td>SAO PAULO</td>\n",
              "      <td>SP</td>\n",
              "    </tr>\n",
              "    <tr>\n",
              "      <th>3</th>\n",
              "      <td>a4c59228-626e-406f-9036-d34360f8ffd5</td>\n",
              "      <td>2025-01-18 23:14:22.416528-03:00</td>\n",
              "      <td>2025-01-18 23:14:22.416546-03:00</td>\n",
              "      <td>True</td>\n",
              "      <td>5250000.0000</td>\n",
              "      <td>FORD</td>\n",
              "      <td>https://www.usadosbr.com//carros-e-utilitarios...</td>\n",
              "      <td>2025-01-18 23:14:22.416561-03:00</td>\n",
              "      <td>2025</td>\n",
              "      <td>1</td>\n",
              "      <td>...</td>\n",
              "      <td>ECOSPORT</td>\n",
              "      <td>NaN</td>\n",
              "      <td>2013</td>\n",
              "      <td>FORD ECOSPORT</td>\n",
              "      <td>228000.0000</td>\n",
              "      <td>MANUAL</td>\n",
              "      <td>FLEX</td>\n",
              "      <td>SUV</td>\n",
              "      <td>IBIUNA</td>\n",
              "      <td>SP</td>\n",
              "    </tr>\n",
              "    <tr>\n",
              "      <th>4</th>\n",
              "      <td>185d7281-7322-4d28-a11e-b962d692d532</td>\n",
              "      <td>2025-01-18 23:14:22.416587-03:00</td>\n",
              "      <td>2025-01-18 23:14:22.416593-03:00</td>\n",
              "      <td>True</td>\n",
              "      <td>17990000.0000</td>\n",
              "      <td>CHEVROLET</td>\n",
              "      <td>https://www.usadosbr.com//carros-e-utilitarios...</td>\n",
              "      <td>2025-01-18 23:14:22.416602-03:00</td>\n",
              "      <td>2025</td>\n",
              "      <td>1</td>\n",
              "      <td>...</td>\n",
              "      <td>S10</td>\n",
              "      <td>NaN</td>\n",
              "      <td>2017</td>\n",
              "      <td>CHEVROLET S10</td>\n",
              "      <td>141000.0000</td>\n",
              "      <td>AUTOMATICO</td>\n",
              "      <td>DIESEL</td>\n",
              "      <td>PICAPE CABINE DUPLA</td>\n",
              "      <td>GOIANIA</td>\n",
              "      <td>GO</td>\n",
              "    </tr>\n",
              "  </tbody>\n",
              "</table>\n",
              "<p>5 rows × 22 columns</p>\n",
              "</div>\n",
              "    <div class=\"colab-df-buttons\">\n",
              "\n",
              "  <div class=\"colab-df-container\">\n",
              "    <button class=\"colab-df-convert\" onclick=\"convertToInteractive('df-c12d4203-0500-43ca-aa81-e47b9ce51981')\"\n",
              "            title=\"Convert this dataframe to an interactive table.\"\n",
              "            style=\"display:none;\">\n",
              "\n",
              "  <svg xmlns=\"http://www.w3.org/2000/svg\" height=\"24px\" viewBox=\"0 -960 960 960\">\n",
              "    <path d=\"M120-120v-720h720v720H120Zm60-500h600v-160H180v160Zm220 220h160v-160H400v160Zm0 220h160v-160H400v160ZM180-400h160v-160H180v160Zm440 0h160v-160H620v160ZM180-180h160v-160H180v160Zm440 0h160v-160H620v160Z\"/>\n",
              "  </svg>\n",
              "    </button>\n",
              "\n",
              "  <style>\n",
              "    .colab-df-container {\n",
              "      display:flex;\n",
              "      gap: 12px;\n",
              "    }\n",
              "\n",
              "    .colab-df-convert {\n",
              "      background-color: #E8F0FE;\n",
              "      border: none;\n",
              "      border-radius: 50%;\n",
              "      cursor: pointer;\n",
              "      display: none;\n",
              "      fill: #1967D2;\n",
              "      height: 32px;\n",
              "      padding: 0 0 0 0;\n",
              "      width: 32px;\n",
              "    }\n",
              "\n",
              "    .colab-df-convert:hover {\n",
              "      background-color: #E2EBFA;\n",
              "      box-shadow: 0px 1px 2px rgba(60, 64, 67, 0.3), 0px 1px 3px 1px rgba(60, 64, 67, 0.15);\n",
              "      fill: #174EA6;\n",
              "    }\n",
              "\n",
              "    .colab-df-buttons div {\n",
              "      margin-bottom: 4px;\n",
              "    }\n",
              "\n",
              "    [theme=dark] .colab-df-convert {\n",
              "      background-color: #3B4455;\n",
              "      fill: #D2E3FC;\n",
              "    }\n",
              "\n",
              "    [theme=dark] .colab-df-convert:hover {\n",
              "      background-color: #434B5C;\n",
              "      box-shadow: 0px 1px 3px 1px rgba(0, 0, 0, 0.15);\n",
              "      filter: drop-shadow(0px 1px 2px rgba(0, 0, 0, 0.3));\n",
              "      fill: #FFFFFF;\n",
              "    }\n",
              "  </style>\n",
              "\n",
              "    <script>\n",
              "      const buttonEl =\n",
              "        document.querySelector('#df-c12d4203-0500-43ca-aa81-e47b9ce51981 button.colab-df-convert');\n",
              "      buttonEl.style.display =\n",
              "        google.colab.kernel.accessAllowed ? 'block' : 'none';\n",
              "\n",
              "      async function convertToInteractive(key) {\n",
              "        const element = document.querySelector('#df-c12d4203-0500-43ca-aa81-e47b9ce51981');\n",
              "        const dataTable =\n",
              "          await google.colab.kernel.invokeFunction('convertToInteractive',\n",
              "                                                    [key], {});\n",
              "        if (!dataTable) return;\n",
              "\n",
              "        const docLinkHtml = 'Like what you see? Visit the ' +\n",
              "          '<a target=\"_blank\" href=https://colab.research.google.com/notebooks/data_table.ipynb>data table notebook</a>'\n",
              "          + ' to learn more about interactive tables.';\n",
              "        element.innerHTML = '';\n",
              "        dataTable['output_type'] = 'display_data';\n",
              "        await google.colab.output.renderOutput(dataTable, element);\n",
              "        const docLink = document.createElement('div');\n",
              "        docLink.innerHTML = docLinkHtml;\n",
              "        element.appendChild(docLink);\n",
              "      }\n",
              "    </script>\n",
              "  </div>\n",
              "\n",
              "\n",
              "<div id=\"df-ea1aa373-e60f-4724-9851-f6f900b5923a\">\n",
              "  <button class=\"colab-df-quickchart\" onclick=\"quickchart('df-ea1aa373-e60f-4724-9851-f6f900b5923a')\"\n",
              "            title=\"Suggest charts\"\n",
              "            style=\"display:none;\">\n",
              "\n",
              "<svg xmlns=\"http://www.w3.org/2000/svg\" height=\"24px\"viewBox=\"0 0 24 24\"\n",
              "     width=\"24px\">\n",
              "    <g>\n",
              "        <path d=\"M19 3H5c-1.1 0-2 .9-2 2v14c0 1.1.9 2 2 2h14c1.1 0 2-.9 2-2V5c0-1.1-.9-2-2-2zM9 17H7v-7h2v7zm4 0h-2V7h2v10zm4 0h-2v-4h2v4z\"/>\n",
              "    </g>\n",
              "</svg>\n",
              "  </button>\n",
              "\n",
              "<style>\n",
              "  .colab-df-quickchart {\n",
              "      --bg-color: #E8F0FE;\n",
              "      --fill-color: #1967D2;\n",
              "      --hover-bg-color: #E2EBFA;\n",
              "      --hover-fill-color: #174EA6;\n",
              "      --disabled-fill-color: #AAA;\n",
              "      --disabled-bg-color: #DDD;\n",
              "  }\n",
              "\n",
              "  [theme=dark] .colab-df-quickchart {\n",
              "      --bg-color: #3B4455;\n",
              "      --fill-color: #D2E3FC;\n",
              "      --hover-bg-color: #434B5C;\n",
              "      --hover-fill-color: #FFFFFF;\n",
              "      --disabled-bg-color: #3B4455;\n",
              "      --disabled-fill-color: #666;\n",
              "  }\n",
              "\n",
              "  .colab-df-quickchart {\n",
              "    background-color: var(--bg-color);\n",
              "    border: none;\n",
              "    border-radius: 50%;\n",
              "    cursor: pointer;\n",
              "    display: none;\n",
              "    fill: var(--fill-color);\n",
              "    height: 32px;\n",
              "    padding: 0;\n",
              "    width: 32px;\n",
              "  }\n",
              "\n",
              "  .colab-df-quickchart:hover {\n",
              "    background-color: var(--hover-bg-color);\n",
              "    box-shadow: 0 1px 2px rgba(60, 64, 67, 0.3), 0 1px 3px 1px rgba(60, 64, 67, 0.15);\n",
              "    fill: var(--button-hover-fill-color);\n",
              "  }\n",
              "\n",
              "  .colab-df-quickchart-complete:disabled,\n",
              "  .colab-df-quickchart-complete:disabled:hover {\n",
              "    background-color: var(--disabled-bg-color);\n",
              "    fill: var(--disabled-fill-color);\n",
              "    box-shadow: none;\n",
              "  }\n",
              "\n",
              "  .colab-df-spinner {\n",
              "    border: 2px solid var(--fill-color);\n",
              "    border-color: transparent;\n",
              "    border-bottom-color: var(--fill-color);\n",
              "    animation:\n",
              "      spin 1s steps(1) infinite;\n",
              "  }\n",
              "\n",
              "  @keyframes spin {\n",
              "    0% {\n",
              "      border-color: transparent;\n",
              "      border-bottom-color: var(--fill-color);\n",
              "      border-left-color: var(--fill-color);\n",
              "    }\n",
              "    20% {\n",
              "      border-color: transparent;\n",
              "      border-left-color: var(--fill-color);\n",
              "      border-top-color: var(--fill-color);\n",
              "    }\n",
              "    30% {\n",
              "      border-color: transparent;\n",
              "      border-left-color: var(--fill-color);\n",
              "      border-top-color: var(--fill-color);\n",
              "      border-right-color: var(--fill-color);\n",
              "    }\n",
              "    40% {\n",
              "      border-color: transparent;\n",
              "      border-right-color: var(--fill-color);\n",
              "      border-top-color: var(--fill-color);\n",
              "    }\n",
              "    60% {\n",
              "      border-color: transparent;\n",
              "      border-right-color: var(--fill-color);\n",
              "    }\n",
              "    80% {\n",
              "      border-color: transparent;\n",
              "      border-right-color: var(--fill-color);\n",
              "      border-bottom-color: var(--fill-color);\n",
              "    }\n",
              "    90% {\n",
              "      border-color: transparent;\n",
              "      border-bottom-color: var(--fill-color);\n",
              "    }\n",
              "  }\n",
              "</style>\n",
              "\n",
              "  <script>\n",
              "    async function quickchart(key) {\n",
              "      const quickchartButtonEl =\n",
              "        document.querySelector('#' + key + ' button');\n",
              "      quickchartButtonEl.disabled = true;  // To prevent multiple clicks.\n",
              "      quickchartButtonEl.classList.add('colab-df-spinner');\n",
              "      try {\n",
              "        const charts = await google.colab.kernel.invokeFunction(\n",
              "            'suggestCharts', [key], {});\n",
              "      } catch (error) {\n",
              "        console.error('Error during call to suggestCharts:', error);\n",
              "      }\n",
              "      quickchartButtonEl.classList.remove('colab-df-spinner');\n",
              "      quickchartButtonEl.classList.add('colab-df-quickchart-complete');\n",
              "    }\n",
              "    (() => {\n",
              "      let quickchartButtonEl =\n",
              "        document.querySelector('#df-ea1aa373-e60f-4724-9851-f6f900b5923a button');\n",
              "      quickchartButtonEl.style.display =\n",
              "        google.colab.kernel.accessAllowed ? 'block' : 'none';\n",
              "    })();\n",
              "  </script>\n",
              "</div>\n",
              "\n",
              "    </div>\n",
              "  </div>\n"
            ],
            "application/vnd.google.colaboratory.intrinsic+json": {
              "type": "dataframe",
              "variable_name": "df"
            }
          },
          "metadata": {},
          "execution_count": 30
        }
      ]
    },
    {
      "cell_type": "markdown",
      "source": [
        "# Preparando os dados para treinamento do modelo"
      ],
      "metadata": {
        "id": "LT21d5bqPyIU"
      }
    },
    {
      "cell_type": "code",
      "source": [
        "# Contar valores ausentes por coluna\n",
        "missing_values = df.isna().sum()\n",
        "\n",
        "# Mostrar valores ausentes para cada coluna\n",
        "print(missing_values)"
      ],
      "metadata": {
        "colab": {
          "base_uri": "https://localhost:8080/"
        },
        "id": "7-VhAiFtBYsj",
        "outputId": "5b6c7f4d-5c42-42d4-db9d-5e90115b7b8f"
      },
      "execution_count": 31,
      "outputs": [
        {
          "output_type": "stream",
          "name": "stdout",
          "text": [
            "id                     0\n",
            "created_at             0\n",
            "updated_at             0\n",
            "is_active              0\n",
            "price                  0\n",
            "brand                  0\n",
            "url                    0\n",
            "crawl_date             0\n",
            "year_reference         0\n",
            "month_reference        0\n",
            "description         4846\n",
            "code_model             0\n",
            "model                  0\n",
            "year_fabrication    4846\n",
            "year_model             0\n",
            "title                  0\n",
            "mileage                5\n",
            "gear                   0\n",
            "fuel                   0\n",
            "bodywork               0\n",
            "city                   0\n",
            "state                  0\n",
            "dtype: int64\n"
          ]
        }
      ]
    },
    {
      "cell_type": "code",
      "source": [
        "# Descartar registros onde a coluna 'mileage' está ausente\n",
        "df = df.dropna(subset=['mileage'])\n",
        "\n",
        "# Confirmar a remoção\n",
        "print(f\"Número Total de Registros após descartar ausentes em 'mileage': {df.shape[0]}\")"
      ],
      "metadata": {
        "colab": {
          "base_uri": "https://localhost:8080/"
        },
        "id": "iniQqRQ5Bb70",
        "outputId": "45cbf2c2-7bd7-4693-f430-a1bd08f9622b"
      },
      "execution_count": 32,
      "outputs": [
        {
          "output_type": "stream",
          "name": "stdout",
          "text": [
            "Número Total de Registros após descartar ausentes em 'mileage': 4841\n"
          ]
        }
      ]
    },
    {
      "cell_type": "code",
      "source": [
        "## descartando as features irrelevantes (colunas)\n",
        "df.drop([\"id\", \"created_at\", \"updated_at\", \"is_active\", \"crawl_date\", \"url\",\n",
        "         \"year_reference\", \"month_reference\", \"code_model\", \"year_fabrication\",\n",
        "         \"description\", \"title\"], axis=1, inplace=True)\n",
        "\n",
        "## verificando as features após descartar recursos indesejados\n",
        "df.columns"
      ],
      "metadata": {
        "colab": {
          "base_uri": "https://localhost:8080/"
        },
        "id": "Rrr0OylYBfbL",
        "outputId": "13d3b294-d164-4dbd-f0a1-1f5c8173afe9"
      },
      "execution_count": 33,
      "outputs": [
        {
          "output_type": "execute_result",
          "data": {
            "text/plain": [
              "Index(['price', 'brand', 'model', 'year_model', 'mileage', 'gear', 'fuel',\n",
              "       'bodywork', 'city', 'state'],\n",
              "      dtype='object')"
            ]
          },
          "metadata": {},
          "execution_count": 33
        }
      ]
    },
    {
      "cell_type": "code",
      "source": [
        "## Criando novas features para deixar o modelo mais preciso\n",
        "\n",
        "import datetime\n",
        "\n",
        "# Idade do carro\n",
        "current_year = datetime.datetime.now().year\n",
        "df['age_years'] = current_year - df['year_model']\n",
        "\n",
        "# diferença entre o preço de um veículo e o preço médio dos veículos com o mesmo modelo e ano modelo\n",
        "df['price_deviation'] = df['price'] - df.groupby(['model', 'year_model'])['price'].transform('mean')\n",
        "\n",
        "# Preço médio por marca\n",
        "brand_avg = df.groupby('brand')['price'].transform('mean')\n",
        "df['brand_avg_price'] = brand_avg\n",
        "\n",
        "# Preço médio por estado\n",
        "state_avg = df.groupby('state')['price'].transform('mean')\n",
        "df['state_avg_price'] = state_avg\n",
        "\n",
        "# Preço médio por cidade\n",
        "city_avg = df.groupby('city')['price'].transform('mean')\n",
        "df['city_avg_price'] = city_avg\n",
        "\n",
        "# Marcas de luxo (ajuste conforme necessário)\n",
        "luxury_brands = ['PORSCHE', 'JAGUAR', 'MERCEDES-BENZ', 'BMW', 'LAND ROVER', 'VOLVO']\n",
        "df['is_luxury_brand'] = df['brand'].apply(lambda x: 1 if x in luxury_brands else 0)"
      ],
      "metadata": {
        "id": "0nfnGmmDBim9"
      },
      "execution_count": 34,
      "outputs": []
    },
    {
      "cell_type": "code",
      "source": [
        "# Cálculo do IQR para detectar outliers\n",
        "Q1 = df['price'].quantile(0.25)\n",
        "Q3 = df['price'].quantile(0.75)\n",
        "IQR = Q3 - Q1\n",
        "\n",
        "# Limites inferior e superior\n",
        "lower_limit = Q1 - 1.5 * IQR\n",
        "upper_limit = Q3 + 1.5 * IQR\n",
        "\n",
        "# Filtrando os outliers\n",
        "df_clean = df[(df['price'] >= lower_limit) & (df['price'] <= upper_limit)]\n",
        "\n",
        "# Verificando os resultados\n",
        "print(f\"Dados originais: {len(df)} registros\")\n",
        "print(f\"Dados após remoção dos outliers: {len(df_clean)} registros\")\n",
        "\n",
        "# Exibindo as estatísticas descritivas do dataframe sem outliers\n",
        "print(df_clean['price'].describe())"
      ],
      "metadata": {
        "colab": {
          "base_uri": "https://localhost:8080/"
        },
        "id": "t1l8vXYKBmaM",
        "outputId": "6f9730a0-f54f-478a-a265-3e295366ef26"
      },
      "execution_count": 8,
      "outputs": [
        {
          "output_type": "stream",
          "name": "stdout",
          "text": [
            "Dados originais: 4841 registros\n",
            "Dados após remoção dos outliers: 4670 registros\n",
            "count       4670.0000\n",
            "mean     9834804.9550\n",
            "std      2884612.4249\n",
            "min      1050000.0000\n",
            "25%      7399000.0000\n",
            "50%      9229000.0000\n",
            "75%     11999000.0000\n",
            "max     19355000.0000\n",
            "Name: price, dtype: float64\n"
          ]
        }
      ]
    },
    {
      "cell_type": "code",
      "source": [
        "df.info()"
      ],
      "metadata": {
        "colab": {
          "base_uri": "https://localhost:8080/"
        },
        "id": "VaODPka3CMA8",
        "outputId": "d07fcba1-3cc3-491f-bc49-1d799763541c"
      },
      "execution_count": 9,
      "outputs": [
        {
          "output_type": "stream",
          "name": "stdout",
          "text": [
            "<class 'pandas.core.frame.DataFrame'>\n",
            "Index: 4841 entries, 0 to 4845\n",
            "Data columns (total 16 columns):\n",
            " #   Column           Non-Null Count  Dtype  \n",
            "---  ------           --------------  -----  \n",
            " 0   price            4841 non-null   float64\n",
            " 1   brand            4841 non-null   object \n",
            " 2   model            4841 non-null   object \n",
            " 3   year_model       4841 non-null   int64  \n",
            " 4   mileage          4841 non-null   float64\n",
            " 5   gear             4841 non-null   object \n",
            " 6   fuel             4841 non-null   object \n",
            " 7   bodywork         4841 non-null   object \n",
            " 8   city             4841 non-null   object \n",
            " 9   state            4841 non-null   object \n",
            " 10  age_years        4841 non-null   int64  \n",
            " 11  price_deviation  4841 non-null   float64\n",
            " 12  brand_avg_price  4841 non-null   float64\n",
            " 13  state_avg_price  4841 non-null   float64\n",
            " 14  city_avg_price   4841 non-null   float64\n",
            " 15  is_luxury_brand  4841 non-null   int64  \n",
            "dtypes: float64(6), int64(3), object(7)\n",
            "memory usage: 642.9+ KB\n"
          ]
        }
      ]
    },
    {
      "cell_type": "markdown",
      "source": [
        "# Gerando os Artefatos"
      ],
      "metadata": {
        "id": "1Y-f5UR6PLtt"
      }
    },
    {
      "cell_type": "code",
      "source": [
        "import pickle"
      ],
      "metadata": {
        "id": "XpzuP12dB607"
      },
      "execution_count": 10,
      "outputs": []
    },
    {
      "cell_type": "code",
      "source": [
        "# Supondo que 'df' já tenha as novas features criadas.\n",
        "\n",
        "# 1. Identificar automaticamente as colunas categóricas e numéricas\n",
        "categorical_columns = df.select_dtypes(exclude=[\"int\", \"float\"]).columns.tolist()\n",
        "numerical_columns = df.select_dtypes(include=[\"int\", \"float\"]).columns.tolist()\n",
        "\n",
        "# Remover 'price' (variável alvo) das colunas numéricas\n",
        "numerical_columns.remove('price')\n",
        "\n",
        "# Separar X e y\n",
        "X = df.drop(columns=[\"price\"])\n",
        "y = df[\"price\"]\n"
      ],
      "metadata": {
        "id": "kxw_dpE8EWul"
      },
      "execution_count": 11,
      "outputs": []
    },
    {
      "cell_type": "code",
      "source": [
        "# 2. Aplicar o OneHotEncoder nas colunas categóricas\n",
        "ohe = OneHotEncoder(sparse_output=False, handle_unknown='ignore')\n",
        "encoded_data = ohe.fit_transform(X[categorical_columns])\n",
        "\n",
        "# Criar DataFrame com os dados codificados\n",
        "encoded_df = pd.DataFrame(encoded_data, columns=ohe.get_feature_names_out(categorical_columns), index=df.index)\n",
        "\n",
        "# Concatenar as colunas codificadas com as numéricas\n",
        "X = X.drop(columns=categorical_columns)\n",
        "X = pd.concat([X, encoded_df], axis=1)\n"
      ],
      "metadata": {
        "id": "rTp2ArHxLl0D"
      },
      "execution_count": 12,
      "outputs": []
    },
    {
      "cell_type": "code",
      "source": [
        "# 3. Aplicar o StandardScaler nas colunas numéricas (incluindo as novas features numéricas)\n",
        "scaler = StandardScaler()\n",
        "scaled_data = scaler.fit_transform(X[numerical_columns])\n",
        "\n",
        "# Criar um DataFrame com os dados escalonados\n",
        "scaled_df = pd.DataFrame(scaled_data, columns=numerical_columns, index=df.index)\n",
        "\n",
        "# Substituir as colunas numéricas originais pelos valores escalonados\n",
        "X[numerical_columns] = scaled_df"
      ],
      "metadata": {
        "id": "WKfvyXq_Lr1T"
      },
      "execution_count": 13,
      "outputs": []
    },
    {
      "cell_type": "code",
      "source": [
        "# 4. Dividir os dados em treino e teste\n",
        "X_train, X_test, y_train, y_test = train_test_split(X, y, test_size=0.2, random_state=0)"
      ],
      "metadata": {
        "id": "m5Wy1yfrLxnr"
      },
      "execution_count": 14,
      "outputs": []
    },
    {
      "cell_type": "code",
      "source": [
        "# 5. Treinar o modelo\n",
        "randfor_model = RandomForestRegressor()\n",
        "randfor_model.fit(X_train, y_train)"
      ],
      "metadata": {
        "colab": {
          "base_uri": "https://localhost:8080/",
          "height": 75
        },
        "id": "kY4gu7FWLyIv",
        "outputId": "152975e0-e561-4778-cb3d-d6dabec2aba5"
      },
      "execution_count": 15,
      "outputs": [
        {
          "output_type": "execute_result",
          "data": {
            "text/plain": [
              "RandomForestRegressor()"
            ],
            "text/html": [
              "<style>#sk-container-id-1 {color: black;}#sk-container-id-1 pre{padding: 0;}#sk-container-id-1 div.sk-toggleable {background-color: white;}#sk-container-id-1 label.sk-toggleable__label {cursor: pointer;display: block;width: 100%;margin-bottom: 0;padding: 0.3em;box-sizing: border-box;text-align: center;}#sk-container-id-1 label.sk-toggleable__label-arrow:before {content: \"▸\";float: left;margin-right: 0.25em;color: #696969;}#sk-container-id-1 label.sk-toggleable__label-arrow:hover:before {color: black;}#sk-container-id-1 div.sk-estimator:hover label.sk-toggleable__label-arrow:before {color: black;}#sk-container-id-1 div.sk-toggleable__content {max-height: 0;max-width: 0;overflow: hidden;text-align: left;background-color: #f0f8ff;}#sk-container-id-1 div.sk-toggleable__content pre {margin: 0.2em;color: black;border-radius: 0.25em;background-color: #f0f8ff;}#sk-container-id-1 input.sk-toggleable__control:checked~div.sk-toggleable__content {max-height: 200px;max-width: 100%;overflow: auto;}#sk-container-id-1 input.sk-toggleable__control:checked~label.sk-toggleable__label-arrow:before {content: \"▾\";}#sk-container-id-1 div.sk-estimator input.sk-toggleable__control:checked~label.sk-toggleable__label {background-color: #d4ebff;}#sk-container-id-1 div.sk-label input.sk-toggleable__control:checked~label.sk-toggleable__label {background-color: #d4ebff;}#sk-container-id-1 input.sk-hidden--visually {border: 0;clip: rect(1px 1px 1px 1px);clip: rect(1px, 1px, 1px, 1px);height: 1px;margin: -1px;overflow: hidden;padding: 0;position: absolute;width: 1px;}#sk-container-id-1 div.sk-estimator {font-family: monospace;background-color: #f0f8ff;border: 1px dotted black;border-radius: 0.25em;box-sizing: border-box;margin-bottom: 0.5em;}#sk-container-id-1 div.sk-estimator:hover {background-color: #d4ebff;}#sk-container-id-1 div.sk-parallel-item::after {content: \"\";width: 100%;border-bottom: 1px solid gray;flex-grow: 1;}#sk-container-id-1 div.sk-label:hover label.sk-toggleable__label {background-color: #d4ebff;}#sk-container-id-1 div.sk-serial::before {content: \"\";position: absolute;border-left: 1px solid gray;box-sizing: border-box;top: 0;bottom: 0;left: 50%;z-index: 0;}#sk-container-id-1 div.sk-serial {display: flex;flex-direction: column;align-items: center;background-color: white;padding-right: 0.2em;padding-left: 0.2em;position: relative;}#sk-container-id-1 div.sk-item {position: relative;z-index: 1;}#sk-container-id-1 div.sk-parallel {display: flex;align-items: stretch;justify-content: center;background-color: white;position: relative;}#sk-container-id-1 div.sk-item::before, #sk-container-id-1 div.sk-parallel-item::before {content: \"\";position: absolute;border-left: 1px solid gray;box-sizing: border-box;top: 0;bottom: 0;left: 50%;z-index: -1;}#sk-container-id-1 div.sk-parallel-item {display: flex;flex-direction: column;z-index: 1;position: relative;background-color: white;}#sk-container-id-1 div.sk-parallel-item:first-child::after {align-self: flex-end;width: 50%;}#sk-container-id-1 div.sk-parallel-item:last-child::after {align-self: flex-start;width: 50%;}#sk-container-id-1 div.sk-parallel-item:only-child::after {width: 0;}#sk-container-id-1 div.sk-dashed-wrapped {border: 1px dashed gray;margin: 0 0.4em 0.5em 0.4em;box-sizing: border-box;padding-bottom: 0.4em;background-color: white;}#sk-container-id-1 div.sk-label label {font-family: monospace;font-weight: bold;display: inline-block;line-height: 1.2em;}#sk-container-id-1 div.sk-label-container {text-align: center;}#sk-container-id-1 div.sk-container {/* jupyter's `normalize.less` sets `[hidden] { display: none; }` but bootstrap.min.css set `[hidden] { display: none !important; }` so we also need the `!important` here to be able to override the default hidden behavior on the sphinx rendered scikit-learn.org. See: https://github.com/scikit-learn/scikit-learn/issues/21755 */display: inline-block !important;position: relative;}#sk-container-id-1 div.sk-text-repr-fallback {display: none;}</style><div id=\"sk-container-id-1\" class=\"sk-top-container\"><div class=\"sk-text-repr-fallback\"><pre>RandomForestRegressor()</pre><b>In a Jupyter environment, please rerun this cell to show the HTML representation or trust the notebook. <br />On GitHub, the HTML representation is unable to render, please try loading this page with nbviewer.org.</b></div><div class=\"sk-container\" hidden><div class=\"sk-item\"><div class=\"sk-estimator sk-toggleable\"><input class=\"sk-toggleable__control sk-hidden--visually\" id=\"sk-estimator-id-1\" type=\"checkbox\" checked><label for=\"sk-estimator-id-1\" class=\"sk-toggleable__label sk-toggleable__label-arrow\">RandomForestRegressor</label><div class=\"sk-toggleable__content\"><pre>RandomForestRegressor()</pre></div></div></div></div></div>"
            ]
          },
          "metadata": {},
          "execution_count": 15
        }
      ]
    },
    {
      "cell_type": "code",
      "source": [
        "# 6. Salvar os artefatos\n",
        "with open('onehotencoder.pkl', 'wb') as file:\n",
        "    pickle.dump(ohe, file)\n",
        "\n",
        "with open('scaler.pkl', 'wb') as file:\n",
        "    pickle.dump(scaler, file)\n",
        "\n",
        "with open('randfor_model.pkl', 'wb') as file:\n",
        "    pickle.dump(randfor_model, file)\n",
        "\n",
        "print(\"Artefatos salvos com sucesso!\")"
      ],
      "metadata": {
        "colab": {
          "base_uri": "https://localhost:8080/"
        },
        "id": "PjC4i1izL2ar",
        "outputId": "40b5117a-fd6d-4275-eea9-64c7c4967bf2"
      },
      "execution_count": 16,
      "outputs": [
        {
          "output_type": "stream",
          "name": "stdout",
          "text": [
            "Artefatos salvos com sucesso!\n"
          ]
        }
      ]
    },
    {
      "cell_type": "code",
      "source": [
        "# Carregar os artefatos salvos\n",
        "with open('onehotencoder.pkl', 'rb') as file:\n",
        "    ohe = pickle.load(file)\n",
        "\n",
        "with open('scaler.pkl', 'rb') as file:\n",
        "    scaler = pickle.load(file)\n",
        "\n",
        "with open('randfor_model.pkl', 'rb') as file:\n",
        "    model = pickle.load(file)"
      ],
      "metadata": {
        "id": "vTQkPINcMBt0"
      },
      "execution_count": 17,
      "outputs": []
    },
    {
      "cell_type": "markdown",
      "source": [
        "# Avaliação do modelo"
      ],
      "metadata": {
        "id": "-fEBZ1m0PEix"
      }
    },
    {
      "cell_type": "code",
      "source": [
        "## Função de avaliação de modelo\n",
        "def model_eval(model, X_test, y_test):  # Pass X_test and y_test to the function\n",
        "    y_pred = model.predict(X_test)  # Make predictions using the model\n",
        "    r2 = r2_score(y_test, y_pred)\n",
        "    adj_r2 = 1 - (1 - r2) * (len(y_test) - 1) / (len(y_test) - X_test.shape[1] - 1)\n",
        "    mse = mean_squared_error(y_test, y_pred)\n",
        "    rmse = np.sqrt(mse)\n",
        "    mae = mean_absolute_error(y_test, y_pred)\n",
        "\n",
        "    # Create a DataFrame with the calculated metrics\n",
        "    preds = pd.DataFrame({\n",
        "        \"Nome_Modelo\": [type(model).__name__],  # Use model's class name for model name\n",
        "        \"Valor_R2\": [r2],\n",
        "        \"Valor_adj_R2\": [adj_r2],\n",
        "        \"MSE\": [mse],\n",
        "        \"RMSE\": [rmse],\n",
        "        \"MAE\": [mae]\n",
        "    })\n",
        "\n",
        "    return preds.sort_values(by=\"Valor_R2\", ascending=False)\n",
        "\n",
        "## Avaliação do modelo\n",
        "model_eval(model, X_test, y_test)\n"
      ],
      "metadata": {
        "colab": {
          "base_uri": "https://localhost:8080/",
          "height": 81
        },
        "id": "5xaju755WfDn",
        "outputId": "830fdf80-0546-4c6e-b263-6e36cb43d267"
      },
      "execution_count": 18,
      "outputs": [
        {
          "output_type": "execute_result",
          "data": {
            "text/plain": [
              "             Nome_Modelo  Valor_R2  Valor_adj_R2                MSE  \\\n",
              "0  RandomForestRegressor    0.8381        0.7316 3702342134834.7036   \n",
              "\n",
              "          RMSE         MAE  \n",
              "0 1924147.1188 447837.0802  "
            ],
            "text/html": [
              "\n",
              "  <div id=\"df-ed69ddf9-148b-4b42-97ec-4cd18e292202\" class=\"colab-df-container\">\n",
              "    <div>\n",
              "<style scoped>\n",
              "    .dataframe tbody tr th:only-of-type {\n",
              "        vertical-align: middle;\n",
              "    }\n",
              "\n",
              "    .dataframe tbody tr th {\n",
              "        vertical-align: top;\n",
              "    }\n",
              "\n",
              "    .dataframe thead th {\n",
              "        text-align: right;\n",
              "    }\n",
              "</style>\n",
              "<table border=\"1\" class=\"dataframe\">\n",
              "  <thead>\n",
              "    <tr style=\"text-align: right;\">\n",
              "      <th></th>\n",
              "      <th>Nome_Modelo</th>\n",
              "      <th>Valor_R2</th>\n",
              "      <th>Valor_adj_R2</th>\n",
              "      <th>MSE</th>\n",
              "      <th>RMSE</th>\n",
              "      <th>MAE</th>\n",
              "    </tr>\n",
              "  </thead>\n",
              "  <tbody>\n",
              "    <tr>\n",
              "      <th>0</th>\n",
              "      <td>RandomForestRegressor</td>\n",
              "      <td>0.8381</td>\n",
              "      <td>0.7316</td>\n",
              "      <td>3702342134834.7036</td>\n",
              "      <td>1924147.1188</td>\n",
              "      <td>447837.0802</td>\n",
              "    </tr>\n",
              "  </tbody>\n",
              "</table>\n",
              "</div>\n",
              "    <div class=\"colab-df-buttons\">\n",
              "\n",
              "  <div class=\"colab-df-container\">\n",
              "    <button class=\"colab-df-convert\" onclick=\"convertToInteractive('df-ed69ddf9-148b-4b42-97ec-4cd18e292202')\"\n",
              "            title=\"Convert this dataframe to an interactive table.\"\n",
              "            style=\"display:none;\">\n",
              "\n",
              "  <svg xmlns=\"http://www.w3.org/2000/svg\" height=\"24px\" viewBox=\"0 -960 960 960\">\n",
              "    <path d=\"M120-120v-720h720v720H120Zm60-500h600v-160H180v160Zm220 220h160v-160H400v160Zm0 220h160v-160H400v160ZM180-400h160v-160H180v160Zm440 0h160v-160H620v160ZM180-180h160v-160H180v160Zm440 0h160v-160H620v160Z\"/>\n",
              "  </svg>\n",
              "    </button>\n",
              "\n",
              "  <style>\n",
              "    .colab-df-container {\n",
              "      display:flex;\n",
              "      gap: 12px;\n",
              "    }\n",
              "\n",
              "    .colab-df-convert {\n",
              "      background-color: #E8F0FE;\n",
              "      border: none;\n",
              "      border-radius: 50%;\n",
              "      cursor: pointer;\n",
              "      display: none;\n",
              "      fill: #1967D2;\n",
              "      height: 32px;\n",
              "      padding: 0 0 0 0;\n",
              "      width: 32px;\n",
              "    }\n",
              "\n",
              "    .colab-df-convert:hover {\n",
              "      background-color: #E2EBFA;\n",
              "      box-shadow: 0px 1px 2px rgba(60, 64, 67, 0.3), 0px 1px 3px 1px rgba(60, 64, 67, 0.15);\n",
              "      fill: #174EA6;\n",
              "    }\n",
              "\n",
              "    .colab-df-buttons div {\n",
              "      margin-bottom: 4px;\n",
              "    }\n",
              "\n",
              "    [theme=dark] .colab-df-convert {\n",
              "      background-color: #3B4455;\n",
              "      fill: #D2E3FC;\n",
              "    }\n",
              "\n",
              "    [theme=dark] .colab-df-convert:hover {\n",
              "      background-color: #434B5C;\n",
              "      box-shadow: 0px 1px 3px 1px rgba(0, 0, 0, 0.15);\n",
              "      filter: drop-shadow(0px 1px 2px rgba(0, 0, 0, 0.3));\n",
              "      fill: #FFFFFF;\n",
              "    }\n",
              "  </style>\n",
              "\n",
              "    <script>\n",
              "      const buttonEl =\n",
              "        document.querySelector('#df-ed69ddf9-148b-4b42-97ec-4cd18e292202 button.colab-df-convert');\n",
              "      buttonEl.style.display =\n",
              "        google.colab.kernel.accessAllowed ? 'block' : 'none';\n",
              "\n",
              "      async function convertToInteractive(key) {\n",
              "        const element = document.querySelector('#df-ed69ddf9-148b-4b42-97ec-4cd18e292202');\n",
              "        const dataTable =\n",
              "          await google.colab.kernel.invokeFunction('convertToInteractive',\n",
              "                                                    [key], {});\n",
              "        if (!dataTable) return;\n",
              "\n",
              "        const docLinkHtml = 'Like what you see? Visit the ' +\n",
              "          '<a target=\"_blank\" href=https://colab.research.google.com/notebooks/data_table.ipynb>data table notebook</a>'\n",
              "          + ' to learn more about interactive tables.';\n",
              "        element.innerHTML = '';\n",
              "        dataTable['output_type'] = 'display_data';\n",
              "        await google.colab.output.renderOutput(dataTable, element);\n",
              "        const docLink = document.createElement('div');\n",
              "        docLink.innerHTML = docLinkHtml;\n",
              "        element.appendChild(docLink);\n",
              "      }\n",
              "    </script>\n",
              "  </div>\n",
              "\n",
              "\n",
              "    </div>\n",
              "  </div>\n"
            ],
            "application/vnd.google.colaboratory.intrinsic+json": {
              "type": "dataframe",
              "summary": "{\n  \"name\": \"model_eval(model, X_test, y_test)  # Call the function with model, X_test, and y_test\",\n  \"rows\": 1,\n  \"fields\": [\n    {\n      \"column\": \"Nome_Modelo\",\n      \"properties\": {\n        \"dtype\": \"string\",\n        \"num_unique_values\": 1,\n        \"samples\": [\n          \"RandomForestRegressor\"\n        ],\n        \"semantic_type\": \"\",\n        \"description\": \"\"\n      }\n    },\n    {\n      \"column\": \"Valor_R2\",\n      \"properties\": {\n        \"dtype\": \"number\",\n        \"std\": null,\n        \"min\": 0.8380887445066789,\n        \"max\": 0.8380887445066789,\n        \"num_unique_values\": 1,\n        \"samples\": [\n          0.8380887445066789\n        ],\n        \"semantic_type\": \"\",\n        \"description\": \"\"\n      }\n    },\n    {\n      \"column\": \"Valor_adj_R2\",\n      \"properties\": {\n        \"dtype\": \"number\",\n        \"std\": null,\n        \"min\": 0.7316265491138103,\n        \"max\": 0.7316265491138103,\n        \"num_unique_values\": 1,\n        \"samples\": [\n          0.7316265491138103\n        ],\n        \"semantic_type\": \"\",\n        \"description\": \"\"\n      }\n    },\n    {\n      \"column\": \"MSE\",\n      \"properties\": {\n        \"dtype\": \"number\",\n        \"std\": null,\n        \"min\": 3702342134834.7036,\n        \"max\": 3702342134834.7036,\n        \"num_unique_values\": 1,\n        \"samples\": [\n          3702342134834.7036\n        ],\n        \"semantic_type\": \"\",\n        \"description\": \"\"\n      }\n    },\n    {\n      \"column\": \"RMSE\",\n      \"properties\": {\n        \"dtype\": \"number\",\n        \"std\": null,\n        \"min\": 1924147.118812567,\n        \"max\": 1924147.118812567,\n        \"num_unique_values\": 1,\n        \"samples\": [\n          1924147.118812567\n        ],\n        \"semantic_type\": \"\",\n        \"description\": \"\"\n      }\n    },\n    {\n      \"column\": \"MAE\",\n      \"properties\": {\n        \"dtype\": \"number\",\n        \"std\": null,\n        \"min\": 447837.0801857586,\n        \"max\": 447837.0801857586,\n        \"num_unique_values\": 1,\n        \"samples\": [\n          447837.0801857586\n        ],\n        \"semantic_type\": \"\",\n        \"description\": \"\"\n      }\n    }\n  ]\n}"
            }
          },
          "metadata": {},
          "execution_count": 18
        }
      ]
    },
    {
      "cell_type": "markdown",
      "source": [
        "# Simulação API Rest\n",
        "\n",
        "\n",
        "\n",
        "* Como usar o modelo treinado através de requisições POST? representadas por input_jon.\n",
        "\n"
      ],
      "metadata": {
        "id": "flD9K6YLOsIh"
      }
    },
    {
      "cell_type": "code",
      "source": [
        "import pandas as pd\n",
        "import numpy as np\n",
        "import datetime\n",
        "\n",
        "# Função para processar input_json e gerar previsão\n",
        "def predict_price(input_json, model, df, ohe, scaler):\n",
        "    # 1. Adicionar features calculadas\n",
        "    current_year = datetime.datetime.now().year\n",
        "    input_json['age_years'] = current_year - input_json['year_model']\n",
        "\n",
        "    # Calcular médias dinâmicas com base nos dados\n",
        "    input_json['brand_avg_price'] = input_json['brand'].apply(lambda x: df[df['brand'] == x]['price'].mean())\n",
        "    input_json['state_avg_price'] = input_json['state'].apply(lambda x: df[df['state'] == x]['price'].mean())\n",
        "    input_json['city_avg_price'] = input_json['city'].apply(lambda x: df[df['city'] == x]['price'].mean())\n",
        "\n",
        "    # Cálculo do price_deviation: baseado no model e year_model\n",
        "    def calculate_price_deviation(row):\n",
        "        group = df[(df['model'] == row['model']) & (df['year_model'] == row['year_model'])]\n",
        "        group_avg_price = group['price'].mean() if not group.empty else 0\n",
        "        return group_avg_price - row['brand_avg_price']\n",
        "\n",
        "    input_json['price_deviation'] = input_json.apply(calculate_price_deviation, axis=1)\n",
        "\n",
        "    # Identificar marcas de luxo\n",
        "    input_json['is_luxury_brand'] = input_json['brand'].apply(lambda x: 1 if x in ['AUDI', 'BMW', 'MERCEDES', 'PORSCHE'] else 0)\n",
        "\n",
        "    # 2. Pré-processar input_json\n",
        "    categorical_columns = ['brand', 'model', 'gear', 'fuel', 'bodywork', 'city', 'state']\n",
        "    numerical_columns = ['year_model', 'mileage', 'age_years', 'price_deviation',\n",
        "                         'brand_avg_price', 'state_avg_price', 'city_avg_price', 'is_luxury_brand']\n",
        "\n",
        "    # a. Aplicar o OneHotEncoder nas colunas categóricas\n",
        "    encoded_categorical = ohe.transform(input_json[categorical_columns])\n",
        "    encoded_categorical_df = pd.DataFrame(\n",
        "        encoded_categorical,\n",
        "        columns=ohe.get_feature_names_out(categorical_columns),\n",
        "        index=input_json.index\n",
        "    )\n",
        "\n",
        "    # b. Normalizar as colunas numéricas\n",
        "    normalized_numeric = scaler.transform(input_json[numerical_columns])\n",
        "    normalized_numeric_df = pd.DataFrame(\n",
        "        normalized_numeric,\n",
        "        columns=numerical_columns,\n",
        "        index=input_json.index\n",
        "    )\n",
        "\n",
        "    # c. Concatenar as colunas normalizadas e codificadas\n",
        "    final_input_df = pd.concat([normalized_numeric_df, encoded_categorical_df], axis=1)\n",
        "\n",
        "    # d. Garantir que o DataFrame tenha a mesma estrutura do X_test\n",
        "    missing_columns = set(X_test.columns) - set(final_input_df.columns)\n",
        "    for col in missing_columns:\n",
        "        final_input_df[col] = 0\n",
        "\n",
        "    final_input_df = final_input_df[X_test.columns]\n",
        "\n",
        "    # 3. Fazer a previsão com o modelo carregado\n",
        "    prediction = model.predict(final_input_df)[0]\n",
        "\n",
        "    # 4. Formatando o valor da previsão em estilo monetário brasileiro\n",
        "    formatted_prediction = str(int(prediction))  # Converte para string e remove decimais\n",
        "\n",
        "    if len(formatted_prediction) == 7:  # Caso o número tenha 7 dígitos (2 antes do ponto)\n",
        "        formatted_prediction = formatted_prediction[:2] + \".\" + formatted_prediction[2:5] + \",\" + formatted_prediction[5:]\n",
        "    elif len(formatted_prediction) == 8:  # Caso o número tenha 8 dígitos (3 antes do ponto)\n",
        "        formatted_prediction = formatted_prediction[:3] + \".\" + formatted_prediction[3:6] + \",\" + formatted_prediction[6:]\n",
        "    else:\n",
        "        formatted_prediction = formatted_prediction # Mantém o formato original se não for 7 ou 8 dígitos\n",
        "\n",
        "    return formatted_prediction\n",
        "\n",
        "# Exemplo de uso\n",
        "input_json = pd.DataFrame([{\n",
        "    \"brand\": \"HYUNDAI\",\n",
        "    \"model\": \"HB20\",\n",
        "    \"year_model\": 2025,\n",
        "    \"mileage\": 45000,\n",
        "    \"gear\": \"AUTOMATICO\",\n",
        "    \"fuel\": \"FLEX\",\n",
        "    \"bodywork\": \"SEDAN\",\n",
        "    \"city\": \"SAO PAULO\",\n",
        "    \"state\": \"SP\"\n",
        "}])\n",
        "\n",
        "previsao = predict_price(input_json, model, df, ohe, scaler)\n",
        "print(f\"Previsão para o veículo: R$ {previsao}\")\n"
      ],
      "metadata": {
        "colab": {
          "base_uri": "https://localhost:8080/"
        },
        "id": "TBg-cbitqWP3",
        "outputId": "bd9fe335-9334-400b-cde7-bc665ded831b"
      },
      "execution_count": 23,
      "outputs": [
        {
          "output_type": "stream",
          "name": "stdout",
          "text": [
            "Previsão para o veículo: R$ 88.113,30\n"
          ]
        }
      ]
    },
    {
      "cell_type": "markdown",
      "source": [
        "## Diagrama do pipeline de dados"
      ],
      "metadata": {
        "id": "4zOsJg5CKomX"
      }
    },
    {
      "cell_type": "markdown",
      "source": [
        "![image.png](data:image/png;base64,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)"
      ],
      "metadata": {
        "id": "HiME8txnKjCX"
      }
    }
  ]
}